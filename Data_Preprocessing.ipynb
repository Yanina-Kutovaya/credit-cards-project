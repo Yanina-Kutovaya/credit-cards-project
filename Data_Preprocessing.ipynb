{
  "cells": [
    {
      "cell_type": "markdown",
      "metadata": {
        "id": "view-in-github",
        "colab_type": "text"
      },
      "source": [
        "<a href=\"https://colab.research.google.com/github/Yanina-Kutovaya/credit-cards-project/blob/main/Data_Preprocessing.ipynb\" target=\"_parent\"><img src=\"https://colab.research.google.com/assets/colab-badge.svg\" alt=\"Open In Colab\"/></a>"
      ]
    },
    {
      "cell_type": "code",
      "execution_count": 1,
      "metadata": {
        "id": "jAr3LQzhf1-e"
      },
      "outputs": [],
      "source": [
        "app_name = 'data_imputing'\n",
        "spark_ui_port = 4043"
      ]
    },
    {
      "cell_type": "code",
      "execution_count": 2,
      "metadata": {
        "colab": {
          "base_uri": "https://localhost:8080/"
        },
        "id": "rFobO9IlgOOK",
        "outputId": "4366c5fb-4167-48a2-c132-e6fd2088b4ad"
      },
      "outputs": [
        {
          "output_type": "stream",
          "name": "stdout",
          "text": [
            "Looking in indexes: https://pypi.org/simple, https://us-python.pkg.dev/colab-wheels/public/simple/\n",
            "Requirement already satisfied: pyspark in /usr/local/lib/python3.7/dist-packages (3.3.0)\n",
            "Requirement already satisfied: py4j==0.10.9.5 in /usr/local/lib/python3.7/dist-packages (from pyspark) (0.10.9.5)\n"
          ]
        }
      ],
      "source": [
        "pip install pyspark"
      ]
    },
    {
      "cell_type": "code",
      "execution_count": 3,
      "metadata": {
        "id": "hG6SHf4HgvEl"
      },
      "outputs": [],
      "source": [
        "import pyspark\n",
        "\n",
        "spark = (\n",
        "    pyspark.sql.SparkSession.builder\n",
        "        .appName(app_name)\n",
        "        .master(\"local[4]\") # limit executor to 4 cores\n",
        "        .config(\"spark.executor.memory\", \"15g\")\n",
        "        .config(\"spark.driver.memory\", \"15g\")\n",
        "        .config(\"spark.ui.port\", spark_ui_port)\n",
        "        .getOrCreate()\n",
        ")"
      ]
    },
    {
      "cell_type": "code",
      "execution_count": 4,
      "metadata": {
        "colab": {
          "base_uri": "https://localhost:8080/",
          "height": 236
        },
        "id": "BdRlZdEZg6nc",
        "outputId": "c579ba36-dd75-4672-e202-df221c466128"
      },
      "outputs": [
        {
          "output_type": "execute_result",
          "data": {
            "text/plain": [
              "   TransactionID  isFraud  TransactionDT  TransactionAmt ProductCD  card1  \\\n",
              "0        2987000        0          86400            68.5         W  13926   \n",
              "1        2987001        0          86401            29.0         W   2755   \n",
              "2        2987002        0          86469            59.0         W   4663   \n",
              "3        2987003        0          86499            50.0         W  18132   \n",
              "4        2987004        0          86506            50.0         H   4497   \n",
              "\n",
              "   card2  card3       card4  card5  ... V330  V331  V332  V333  V334 V335  \\\n",
              "0    NaN  150.0    discover  142.0  ...  NaN   NaN   NaN   NaN   NaN  NaN   \n",
              "1  404.0  150.0  mastercard  102.0  ...  NaN   NaN   NaN   NaN   NaN  NaN   \n",
              "2  490.0  150.0        visa  166.0  ...  NaN   NaN   NaN   NaN   NaN  NaN   \n",
              "3  567.0  150.0  mastercard  117.0  ...  NaN   NaN   NaN   NaN   NaN  NaN   \n",
              "4  514.0  150.0  mastercard  102.0  ...  0.0   0.0   0.0   0.0   0.0  0.0   \n",
              "\n",
              "  V336  V337  V338  V339  \n",
              "0  NaN   NaN   NaN   NaN  \n",
              "1  NaN   NaN   NaN   NaN  \n",
              "2  NaN   NaN   NaN   NaN  \n",
              "3  NaN   NaN   NaN   NaN  \n",
              "4  0.0   0.0   0.0   0.0  \n",
              "\n",
              "[5 rows x 394 columns]"
            ],
            "text/html": [
              "\n",
              "  <div id=\"df-929137e7-0681-4ec5-9163-996fc796090e\">\n",
              "    <div class=\"colab-df-container\">\n",
              "      <div>\n",
              "<style scoped>\n",
              "    .dataframe tbody tr th:only-of-type {\n",
              "        vertical-align: middle;\n",
              "    }\n",
              "\n",
              "    .dataframe tbody tr th {\n",
              "        vertical-align: top;\n",
              "    }\n",
              "\n",
              "    .dataframe thead th {\n",
              "        text-align: right;\n",
              "    }\n",
              "</style>\n",
              "<table border=\"1\" class=\"dataframe\">\n",
              "  <thead>\n",
              "    <tr style=\"text-align: right;\">\n",
              "      <th></th>\n",
              "      <th>TransactionID</th>\n",
              "      <th>isFraud</th>\n",
              "      <th>TransactionDT</th>\n",
              "      <th>TransactionAmt</th>\n",
              "      <th>ProductCD</th>\n",
              "      <th>card1</th>\n",
              "      <th>card2</th>\n",
              "      <th>card3</th>\n",
              "      <th>card4</th>\n",
              "      <th>card5</th>\n",
              "      <th>...</th>\n",
              "      <th>V330</th>\n",
              "      <th>V331</th>\n",
              "      <th>V332</th>\n",
              "      <th>V333</th>\n",
              "      <th>V334</th>\n",
              "      <th>V335</th>\n",
              "      <th>V336</th>\n",
              "      <th>V337</th>\n",
              "      <th>V338</th>\n",
              "      <th>V339</th>\n",
              "    </tr>\n",
              "  </thead>\n",
              "  <tbody>\n",
              "    <tr>\n",
              "      <th>0</th>\n",
              "      <td>2987000</td>\n",
              "      <td>0</td>\n",
              "      <td>86400</td>\n",
              "      <td>68.5</td>\n",
              "      <td>W</td>\n",
              "      <td>13926</td>\n",
              "      <td>NaN</td>\n",
              "      <td>150.0</td>\n",
              "      <td>discover</td>\n",
              "      <td>142.0</td>\n",
              "      <td>...</td>\n",
              "      <td>NaN</td>\n",
              "      <td>NaN</td>\n",
              "      <td>NaN</td>\n",
              "      <td>NaN</td>\n",
              "      <td>NaN</td>\n",
              "      <td>NaN</td>\n",
              "      <td>NaN</td>\n",
              "      <td>NaN</td>\n",
              "      <td>NaN</td>\n",
              "      <td>NaN</td>\n",
              "    </tr>\n",
              "    <tr>\n",
              "      <th>1</th>\n",
              "      <td>2987001</td>\n",
              "      <td>0</td>\n",
              "      <td>86401</td>\n",
              "      <td>29.0</td>\n",
              "      <td>W</td>\n",
              "      <td>2755</td>\n",
              "      <td>404.0</td>\n",
              "      <td>150.0</td>\n",
              "      <td>mastercard</td>\n",
              "      <td>102.0</td>\n",
              "      <td>...</td>\n",
              "      <td>NaN</td>\n",
              "      <td>NaN</td>\n",
              "      <td>NaN</td>\n",
              "      <td>NaN</td>\n",
              "      <td>NaN</td>\n",
              "      <td>NaN</td>\n",
              "      <td>NaN</td>\n",
              "      <td>NaN</td>\n",
              "      <td>NaN</td>\n",
              "      <td>NaN</td>\n",
              "    </tr>\n",
              "    <tr>\n",
              "      <th>2</th>\n",
              "      <td>2987002</td>\n",
              "      <td>0</td>\n",
              "      <td>86469</td>\n",
              "      <td>59.0</td>\n",
              "      <td>W</td>\n",
              "      <td>4663</td>\n",
              "      <td>490.0</td>\n",
              "      <td>150.0</td>\n",
              "      <td>visa</td>\n",
              "      <td>166.0</td>\n",
              "      <td>...</td>\n",
              "      <td>NaN</td>\n",
              "      <td>NaN</td>\n",
              "      <td>NaN</td>\n",
              "      <td>NaN</td>\n",
              "      <td>NaN</td>\n",
              "      <td>NaN</td>\n",
              "      <td>NaN</td>\n",
              "      <td>NaN</td>\n",
              "      <td>NaN</td>\n",
              "      <td>NaN</td>\n",
              "    </tr>\n",
              "    <tr>\n",
              "      <th>3</th>\n",
              "      <td>2987003</td>\n",
              "      <td>0</td>\n",
              "      <td>86499</td>\n",
              "      <td>50.0</td>\n",
              "      <td>W</td>\n",
              "      <td>18132</td>\n",
              "      <td>567.0</td>\n",
              "      <td>150.0</td>\n",
              "      <td>mastercard</td>\n",
              "      <td>117.0</td>\n",
              "      <td>...</td>\n",
              "      <td>NaN</td>\n",
              "      <td>NaN</td>\n",
              "      <td>NaN</td>\n",
              "      <td>NaN</td>\n",
              "      <td>NaN</td>\n",
              "      <td>NaN</td>\n",
              "      <td>NaN</td>\n",
              "      <td>NaN</td>\n",
              "      <td>NaN</td>\n",
              "      <td>NaN</td>\n",
              "    </tr>\n",
              "    <tr>\n",
              "      <th>4</th>\n",
              "      <td>2987004</td>\n",
              "      <td>0</td>\n",
              "      <td>86506</td>\n",
              "      <td>50.0</td>\n",
              "      <td>H</td>\n",
              "      <td>4497</td>\n",
              "      <td>514.0</td>\n",
              "      <td>150.0</td>\n",
              "      <td>mastercard</td>\n",
              "      <td>102.0</td>\n",
              "      <td>...</td>\n",
              "      <td>0.0</td>\n",
              "      <td>0.0</td>\n",
              "      <td>0.0</td>\n",
              "      <td>0.0</td>\n",
              "      <td>0.0</td>\n",
              "      <td>0.0</td>\n",
              "      <td>0.0</td>\n",
              "      <td>0.0</td>\n",
              "      <td>0.0</td>\n",
              "      <td>0.0</td>\n",
              "    </tr>\n",
              "  </tbody>\n",
              "</table>\n",
              "<p>5 rows × 394 columns</p>\n",
              "</div>\n",
              "      <button class=\"colab-df-convert\" onclick=\"convertToInteractive('df-929137e7-0681-4ec5-9163-996fc796090e')\"\n",
              "              title=\"Convert this dataframe to an interactive table.\"\n",
              "              style=\"display:none;\">\n",
              "        \n",
              "  <svg xmlns=\"http://www.w3.org/2000/svg\" height=\"24px\"viewBox=\"0 0 24 24\"\n",
              "       width=\"24px\">\n",
              "    <path d=\"M0 0h24v24H0V0z\" fill=\"none\"/>\n",
              "    <path d=\"M18.56 5.44l.94 2.06.94-2.06 2.06-.94-2.06-.94-.94-2.06-.94 2.06-2.06.94zm-11 1L8.5 8.5l.94-2.06 2.06-.94-2.06-.94L8.5 2.5l-.94 2.06-2.06.94zm10 10l.94 2.06.94-2.06 2.06-.94-2.06-.94-.94-2.06-.94 2.06-2.06.94z\"/><path d=\"M17.41 7.96l-1.37-1.37c-.4-.4-.92-.59-1.43-.59-.52 0-1.04.2-1.43.59L10.3 9.45l-7.72 7.72c-.78.78-.78 2.05 0 2.83L4 21.41c.39.39.9.59 1.41.59.51 0 1.02-.2 1.41-.59l7.78-7.78 2.81-2.81c.8-.78.8-2.07 0-2.86zM5.41 20L4 18.59l7.72-7.72 1.47 1.35L5.41 20z\"/>\n",
              "  </svg>\n",
              "      </button>\n",
              "      \n",
              "  <style>\n",
              "    .colab-df-container {\n",
              "      display:flex;\n",
              "      flex-wrap:wrap;\n",
              "      gap: 12px;\n",
              "    }\n",
              "\n",
              "    .colab-df-convert {\n",
              "      background-color: #E8F0FE;\n",
              "      border: none;\n",
              "      border-radius: 50%;\n",
              "      cursor: pointer;\n",
              "      display: none;\n",
              "      fill: #1967D2;\n",
              "      height: 32px;\n",
              "      padding: 0 0 0 0;\n",
              "      width: 32px;\n",
              "    }\n",
              "\n",
              "    .colab-df-convert:hover {\n",
              "      background-color: #E2EBFA;\n",
              "      box-shadow: 0px 1px 2px rgba(60, 64, 67, 0.3), 0px 1px 3px 1px rgba(60, 64, 67, 0.15);\n",
              "      fill: #174EA6;\n",
              "    }\n",
              "\n",
              "    [theme=dark] .colab-df-convert {\n",
              "      background-color: #3B4455;\n",
              "      fill: #D2E3FC;\n",
              "    }\n",
              "\n",
              "    [theme=dark] .colab-df-convert:hover {\n",
              "      background-color: #434B5C;\n",
              "      box-shadow: 0px 1px 3px 1px rgba(0, 0, 0, 0.15);\n",
              "      filter: drop-shadow(0px 1px 2px rgba(0, 0, 0, 0.3));\n",
              "      fill: #FFFFFF;\n",
              "    }\n",
              "  </style>\n",
              "\n",
              "      <script>\n",
              "        const buttonEl =\n",
              "          document.querySelector('#df-929137e7-0681-4ec5-9163-996fc796090e button.colab-df-convert');\n",
              "        buttonEl.style.display =\n",
              "          google.colab.kernel.accessAllowed ? 'block' : 'none';\n",
              "\n",
              "        async function convertToInteractive(key) {\n",
              "          const element = document.querySelector('#df-929137e7-0681-4ec5-9163-996fc796090e');\n",
              "          const dataTable =\n",
              "            await google.colab.kernel.invokeFunction('convertToInteractive',\n",
              "                                                     [key], {});\n",
              "          if (!dataTable) return;\n",
              "\n",
              "          const docLinkHtml = 'Like what you see? Visit the ' +\n",
              "            '<a target=\"_blank\" href=https://colab.research.google.com/notebooks/data_table.ipynb>data table notebook</a>'\n",
              "            + ' to learn more about interactive tables.';\n",
              "          element.innerHTML = '';\n",
              "          dataTable['output_type'] = 'display_data';\n",
              "          await google.colab.output.renderOutput(dataTable, element);\n",
              "          const docLink = document.createElement('div');\n",
              "          docLink.innerHTML = docLinkHtml;\n",
              "          element.appendChild(docLink);\n",
              "        }\n",
              "      </script>\n",
              "    </div>\n",
              "  </div>\n",
              "  "
            ]
          },
          "metadata": {},
          "execution_count": 4
        }
      ],
      "source": [
        "from pyspark import SparkFiles\n",
        "\n",
        "TRAIN_DATA_URL = 'https://storage.yandexcloud.net/credit-cards-data/train.csv'\n",
        "TEST_DATA_URL = 'https://storage.yandexcloud.net/credit-cards-data/test.csv'\n",
        "\n",
        "spark.sparkContext.addFile(TRAIN_DATA_URL)\n",
        "df_train = spark.read.csv(SparkFiles.get(\"train.csv\"), header=True, inferSchema= True)\n",
        "\n",
        "spark.sparkContext.addFile(TEST_DATA_URL)\n",
        "df_test = spark.read.csv(SparkFiles.get(\"test.csv\"), header=True, inferSchema= True)\n",
        "df_train.limit(5).toPandas()"
      ]
    },
    {
      "cell_type": "markdown",
      "source": [
        "# EDA"
      ],
      "metadata": {
        "id": "sZHBtk-6EFpj"
      }
    },
    {
      "cell_type": "code",
      "execution_count": 5,
      "metadata": {
        "colab": {
          "base_uri": "https://localhost:8080/"
        },
        "id": "vW5IU1ojjfgh",
        "outputId": "4204808d-ddca-4d02-92a2-01c8536b5b71"
      },
      "outputs": [
        {
          "output_type": "execute_result",
          "data": {
            "text/plain": [
              "(180000, 100001)"
            ]
          },
          "metadata": {},
          "execution_count": 5
        }
      ],
      "source": [
        "df_train.count(), df_test.count()"
      ]
    },
    {
      "cell_type": "markdown",
      "source": [
        "## Schema"
      ],
      "metadata": {
        "id": "wVz2CsAMEhWm"
      }
    },
    {
      "cell_type": "code",
      "source": [
        "df_train.schema == df_test.schema"
      ],
      "metadata": {
        "colab": {
          "base_uri": "https://localhost:8080/"
        },
        "id": "C4AVGeyMA9JG",
        "outputId": "d932a2b0-c65d-40d5-db62-5d2c47c773fa"
      },
      "execution_count": 7,
      "outputs": [
        {
          "output_type": "execute_result",
          "data": {
            "text/plain": [
              "True"
            ]
          },
          "metadata": {},
          "execution_count": 7
        }
      ]
    },
    {
      "cell_type": "code",
      "execution_count": 6,
      "metadata": {
        "colab": {
          "base_uri": "https://localhost:8080/"
        },
        "id": "bglbiQoNgWrp",
        "outputId": "438cfbe2-b862-4460-d20b-d0710963702a"
      },
      "outputs": [
        {
          "output_type": "stream",
          "name": "stdout",
          "text": [
            "root\n",
            " |-- TransactionID: integer (nullable = true)\n",
            " |-- isFraud: integer (nullable = true)\n",
            " |-- TransactionDT: integer (nullable = true)\n",
            " |-- TransactionAmt: double (nullable = true)\n",
            " |-- ProductCD: string (nullable = true)\n",
            " |-- card1: integer (nullable = true)\n",
            " |-- card2: double (nullable = true)\n",
            " |-- card3: double (nullable = true)\n",
            " |-- card4: string (nullable = true)\n",
            " |-- card5: double (nullable = true)\n",
            " |-- card6: string (nullable = true)\n",
            " |-- addr1: double (nullable = true)\n",
            " |-- addr2: double (nullable = true)\n",
            " |-- dist1: double (nullable = true)\n",
            " |-- dist2: double (nullable = true)\n",
            " |-- P_emaildomain: string (nullable = true)\n",
            " |-- R_emaildomain: string (nullable = true)\n",
            " |-- C1: double (nullable = true)\n",
            " |-- C2: double (nullable = true)\n",
            " |-- C3: double (nullable = true)\n",
            " |-- C4: double (nullable = true)\n",
            " |-- C5: double (nullable = true)\n",
            " |-- C6: double (nullable = true)\n",
            " |-- C7: double (nullable = true)\n",
            " |-- C8: double (nullable = true)\n",
            " |-- C9: double (nullable = true)\n",
            " |-- C10: double (nullable = true)\n",
            " |-- C11: double (nullable = true)\n",
            " |-- C12: double (nullable = true)\n",
            " |-- C13: double (nullable = true)\n",
            " |-- C14: double (nullable = true)\n",
            " |-- D1: double (nullable = true)\n",
            " |-- D2: double (nullable = true)\n",
            " |-- D3: double (nullable = true)\n",
            " |-- D4: double (nullable = true)\n",
            " |-- D5: double (nullable = true)\n",
            " |-- D6: double (nullable = true)\n",
            " |-- D7: double (nullable = true)\n",
            " |-- D8: double (nullable = true)\n",
            " |-- D9: double (nullable = true)\n",
            " |-- D10: double (nullable = true)\n",
            " |-- D11: double (nullable = true)\n",
            " |-- D12: double (nullable = true)\n",
            " |-- D13: double (nullable = true)\n",
            " |-- D14: double (nullable = true)\n",
            " |-- D15: double (nullable = true)\n",
            " |-- M1: string (nullable = true)\n",
            " |-- M2: string (nullable = true)\n",
            " |-- M3: string (nullable = true)\n",
            " |-- M4: string (nullable = true)\n",
            " |-- M5: string (nullable = true)\n",
            " |-- M6: string (nullable = true)\n",
            " |-- M7: string (nullable = true)\n",
            " |-- M8: string (nullable = true)\n",
            " |-- M9: string (nullable = true)\n",
            " |-- V1: double (nullable = true)\n",
            " |-- V2: double (nullable = true)\n",
            " |-- V3: double (nullable = true)\n",
            " |-- V4: double (nullable = true)\n",
            " |-- V5: double (nullable = true)\n",
            " |-- V6: double (nullable = true)\n",
            " |-- V7: double (nullable = true)\n",
            " |-- V8: double (nullable = true)\n",
            " |-- V9: double (nullable = true)\n",
            " |-- V10: double (nullable = true)\n",
            " |-- V11: double (nullable = true)\n",
            " |-- V12: double (nullable = true)\n",
            " |-- V13: double (nullable = true)\n",
            " |-- V14: double (nullable = true)\n",
            " |-- V15: double (nullable = true)\n",
            " |-- V16: double (nullable = true)\n",
            " |-- V17: double (nullable = true)\n",
            " |-- V18: double (nullable = true)\n",
            " |-- V19: double (nullable = true)\n",
            " |-- V20: double (nullable = true)\n",
            " |-- V21: double (nullable = true)\n",
            " |-- V22: double (nullable = true)\n",
            " |-- V23: double (nullable = true)\n",
            " |-- V24: double (nullable = true)\n",
            " |-- V25: double (nullable = true)\n",
            " |-- V26: double (nullable = true)\n",
            " |-- V27: double (nullable = true)\n",
            " |-- V28: double (nullable = true)\n",
            " |-- V29: double (nullable = true)\n",
            " |-- V30: double (nullable = true)\n",
            " |-- V31: double (nullable = true)\n",
            " |-- V32: double (nullable = true)\n",
            " |-- V33: double (nullable = true)\n",
            " |-- V34: double (nullable = true)\n",
            " |-- V35: double (nullable = true)\n",
            " |-- V36: double (nullable = true)\n",
            " |-- V37: double (nullable = true)\n",
            " |-- V38: double (nullable = true)\n",
            " |-- V39: double (nullable = true)\n",
            " |-- V40: double (nullable = true)\n",
            " |-- V41: double (nullable = true)\n",
            " |-- V42: double (nullable = true)\n",
            " |-- V43: double (nullable = true)\n",
            " |-- V44: double (nullable = true)\n",
            " |-- V45: double (nullable = true)\n",
            " |-- V46: double (nullable = true)\n",
            " |-- V47: double (nullable = true)\n",
            " |-- V48: double (nullable = true)\n",
            " |-- V49: double (nullable = true)\n",
            " |-- V50: double (nullable = true)\n",
            " |-- V51: double (nullable = true)\n",
            " |-- V52: double (nullable = true)\n",
            " |-- V53: double (nullable = true)\n",
            " |-- V54: double (nullable = true)\n",
            " |-- V55: double (nullable = true)\n",
            " |-- V56: double (nullable = true)\n",
            " |-- V57: double (nullable = true)\n",
            " |-- V58: double (nullable = true)\n",
            " |-- V59: double (nullable = true)\n",
            " |-- V60: double (nullable = true)\n",
            " |-- V61: double (nullable = true)\n",
            " |-- V62: double (nullable = true)\n",
            " |-- V63: double (nullable = true)\n",
            " |-- V64: double (nullable = true)\n",
            " |-- V65: double (nullable = true)\n",
            " |-- V66: double (nullable = true)\n",
            " |-- V67: double (nullable = true)\n",
            " |-- V68: double (nullable = true)\n",
            " |-- V69: double (nullable = true)\n",
            " |-- V70: double (nullable = true)\n",
            " |-- V71: double (nullable = true)\n",
            " |-- V72: double (nullable = true)\n",
            " |-- V73: double (nullable = true)\n",
            " |-- V74: double (nullable = true)\n",
            " |-- V75: double (nullable = true)\n",
            " |-- V76: double (nullable = true)\n",
            " |-- V77: double (nullable = true)\n",
            " |-- V78: double (nullable = true)\n",
            " |-- V79: double (nullable = true)\n",
            " |-- V80: double (nullable = true)\n",
            " |-- V81: double (nullable = true)\n",
            " |-- V82: double (nullable = true)\n",
            " |-- V83: double (nullable = true)\n",
            " |-- V84: double (nullable = true)\n",
            " |-- V85: double (nullable = true)\n",
            " |-- V86: double (nullable = true)\n",
            " |-- V87: double (nullable = true)\n",
            " |-- V88: double (nullable = true)\n",
            " |-- V89: double (nullable = true)\n",
            " |-- V90: double (nullable = true)\n",
            " |-- V91: double (nullable = true)\n",
            " |-- V92: double (nullable = true)\n",
            " |-- V93: double (nullable = true)\n",
            " |-- V94: double (nullable = true)\n",
            " |-- V95: double (nullable = true)\n",
            " |-- V96: double (nullable = true)\n",
            " |-- V97: double (nullable = true)\n",
            " |-- V98: double (nullable = true)\n",
            " |-- V99: double (nullable = true)\n",
            " |-- V100: double (nullable = true)\n",
            " |-- V101: double (nullable = true)\n",
            " |-- V102: double (nullable = true)\n",
            " |-- V103: double (nullable = true)\n",
            " |-- V104: double (nullable = true)\n",
            " |-- V105: double (nullable = true)\n",
            " |-- V106: double (nullable = true)\n",
            " |-- V107: double (nullable = true)\n",
            " |-- V108: double (nullable = true)\n",
            " |-- V109: double (nullable = true)\n",
            " |-- V110: double (nullable = true)\n",
            " |-- V111: double (nullable = true)\n",
            " |-- V112: double (nullable = true)\n",
            " |-- V113: double (nullable = true)\n",
            " |-- V114: double (nullable = true)\n",
            " |-- V115: double (nullable = true)\n",
            " |-- V116: double (nullable = true)\n",
            " |-- V117: double (nullable = true)\n",
            " |-- V118: double (nullable = true)\n",
            " |-- V119: double (nullable = true)\n",
            " |-- V120: double (nullable = true)\n",
            " |-- V121: double (nullable = true)\n",
            " |-- V122: double (nullable = true)\n",
            " |-- V123: double (nullable = true)\n",
            " |-- V124: double (nullable = true)\n",
            " |-- V125: double (nullable = true)\n",
            " |-- V126: double (nullable = true)\n",
            " |-- V127: double (nullable = true)\n",
            " |-- V128: double (nullable = true)\n",
            " |-- V129: double (nullable = true)\n",
            " |-- V130: double (nullable = true)\n",
            " |-- V131: double (nullable = true)\n",
            " |-- V132: double (nullable = true)\n",
            " |-- V133: double (nullable = true)\n",
            " |-- V134: double (nullable = true)\n",
            " |-- V135: double (nullable = true)\n",
            " |-- V136: double (nullable = true)\n",
            " |-- V137: double (nullable = true)\n",
            " |-- V138: double (nullable = true)\n",
            " |-- V139: double (nullable = true)\n",
            " |-- V140: double (nullable = true)\n",
            " |-- V141: double (nullable = true)\n",
            " |-- V142: double (nullable = true)\n",
            " |-- V143: double (nullable = true)\n",
            " |-- V144: double (nullable = true)\n",
            " |-- V145: double (nullable = true)\n",
            " |-- V146: double (nullable = true)\n",
            " |-- V147: double (nullable = true)\n",
            " |-- V148: double (nullable = true)\n",
            " |-- V149: double (nullable = true)\n",
            " |-- V150: double (nullable = true)\n",
            " |-- V151: double (nullable = true)\n",
            " |-- V152: double (nullable = true)\n",
            " |-- V153: double (nullable = true)\n",
            " |-- V154: double (nullable = true)\n",
            " |-- V155: double (nullable = true)\n",
            " |-- V156: double (nullable = true)\n",
            " |-- V157: double (nullable = true)\n",
            " |-- V158: double (nullable = true)\n",
            " |-- V159: double (nullable = true)\n",
            " |-- V160: double (nullable = true)\n",
            " |-- V161: double (nullable = true)\n",
            " |-- V162: double (nullable = true)\n",
            " |-- V163: double (nullable = true)\n",
            " |-- V164: double (nullable = true)\n",
            " |-- V165: double (nullable = true)\n",
            " |-- V166: double (nullable = true)\n",
            " |-- V167: double (nullable = true)\n",
            " |-- V168: double (nullable = true)\n",
            " |-- V169: double (nullable = true)\n",
            " |-- V170: double (nullable = true)\n",
            " |-- V171: double (nullable = true)\n",
            " |-- V172: double (nullable = true)\n",
            " |-- V173: double (nullable = true)\n",
            " |-- V174: double (nullable = true)\n",
            " |-- V175: double (nullable = true)\n",
            " |-- V176: double (nullable = true)\n",
            " |-- V177: double (nullable = true)\n",
            " |-- V178: double (nullable = true)\n",
            " |-- V179: double (nullable = true)\n",
            " |-- V180: double (nullable = true)\n",
            " |-- V181: double (nullable = true)\n",
            " |-- V182: double (nullable = true)\n",
            " |-- V183: double (nullable = true)\n",
            " |-- V184: double (nullable = true)\n",
            " |-- V185: double (nullable = true)\n",
            " |-- V186: double (nullable = true)\n",
            " |-- V187: double (nullable = true)\n",
            " |-- V188: double (nullable = true)\n",
            " |-- V189: double (nullable = true)\n",
            " |-- V190: double (nullable = true)\n",
            " |-- V191: double (nullable = true)\n",
            " |-- V192: double (nullable = true)\n",
            " |-- V193: double (nullable = true)\n",
            " |-- V194: double (nullable = true)\n",
            " |-- V195: double (nullable = true)\n",
            " |-- V196: double (nullable = true)\n",
            " |-- V197: double (nullable = true)\n",
            " |-- V198: double (nullable = true)\n",
            " |-- V199: double (nullable = true)\n",
            " |-- V200: double (nullable = true)\n",
            " |-- V201: double (nullable = true)\n",
            " |-- V202: double (nullable = true)\n",
            " |-- V203: double (nullable = true)\n",
            " |-- V204: double (nullable = true)\n",
            " |-- V205: double (nullable = true)\n",
            " |-- V206: double (nullable = true)\n",
            " |-- V207: double (nullable = true)\n",
            " |-- V208: double (nullable = true)\n",
            " |-- V209: double (nullable = true)\n",
            " |-- V210: double (nullable = true)\n",
            " |-- V211: double (nullable = true)\n",
            " |-- V212: double (nullable = true)\n",
            " |-- V213: double (nullable = true)\n",
            " |-- V214: double (nullable = true)\n",
            " |-- V215: double (nullable = true)\n",
            " |-- V216: double (nullable = true)\n",
            " |-- V217: double (nullable = true)\n",
            " |-- V218: double (nullable = true)\n",
            " |-- V219: double (nullable = true)\n",
            " |-- V220: double (nullable = true)\n",
            " |-- V221: double (nullable = true)\n",
            " |-- V222: double (nullable = true)\n",
            " |-- V223: double (nullable = true)\n",
            " |-- V224: double (nullable = true)\n",
            " |-- V225: double (nullable = true)\n",
            " |-- V226: double (nullable = true)\n",
            " |-- V227: double (nullable = true)\n",
            " |-- V228: double (nullable = true)\n",
            " |-- V229: double (nullable = true)\n",
            " |-- V230: double (nullable = true)\n",
            " |-- V231: double (nullable = true)\n",
            " |-- V232: double (nullable = true)\n",
            " |-- V233: double (nullable = true)\n",
            " |-- V234: double (nullable = true)\n",
            " |-- V235: double (nullable = true)\n",
            " |-- V236: double (nullable = true)\n",
            " |-- V237: double (nullable = true)\n",
            " |-- V238: double (nullable = true)\n",
            " |-- V239: double (nullable = true)\n",
            " |-- V240: double (nullable = true)\n",
            " |-- V241: double (nullable = true)\n",
            " |-- V242: double (nullable = true)\n",
            " |-- V243: double (nullable = true)\n",
            " |-- V244: double (nullable = true)\n",
            " |-- V245: double (nullable = true)\n",
            " |-- V246: double (nullable = true)\n",
            " |-- V247: double (nullable = true)\n",
            " |-- V248: double (nullable = true)\n",
            " |-- V249: double (nullable = true)\n",
            " |-- V250: double (nullable = true)\n",
            " |-- V251: double (nullable = true)\n",
            " |-- V252: double (nullable = true)\n",
            " |-- V253: double (nullable = true)\n",
            " |-- V254: double (nullable = true)\n",
            " |-- V255: double (nullable = true)\n",
            " |-- V256: double (nullable = true)\n",
            " |-- V257: double (nullable = true)\n",
            " |-- V258: double (nullable = true)\n",
            " |-- V259: double (nullable = true)\n",
            " |-- V260: double (nullable = true)\n",
            " |-- V261: double (nullable = true)\n",
            " |-- V262: double (nullable = true)\n",
            " |-- V263: double (nullable = true)\n",
            " |-- V264: double (nullable = true)\n",
            " |-- V265: double (nullable = true)\n",
            " |-- V266: double (nullable = true)\n",
            " |-- V267: double (nullable = true)\n",
            " |-- V268: double (nullable = true)\n",
            " |-- V269: double (nullable = true)\n",
            " |-- V270: double (nullable = true)\n",
            " |-- V271: double (nullable = true)\n",
            " |-- V272: double (nullable = true)\n",
            " |-- V273: double (nullable = true)\n",
            " |-- V274: double (nullable = true)\n",
            " |-- V275: double (nullable = true)\n",
            " |-- V276: double (nullable = true)\n",
            " |-- V277: double (nullable = true)\n",
            " |-- V278: double (nullable = true)\n",
            " |-- V279: double (nullable = true)\n",
            " |-- V280: double (nullable = true)\n",
            " |-- V281: double (nullable = true)\n",
            " |-- V282: double (nullable = true)\n",
            " |-- V283: double (nullable = true)\n",
            " |-- V284: double (nullable = true)\n",
            " |-- V285: double (nullable = true)\n",
            " |-- V286: double (nullable = true)\n",
            " |-- V287: double (nullable = true)\n",
            " |-- V288: double (nullable = true)\n",
            " |-- V289: double (nullable = true)\n",
            " |-- V290: double (nullable = true)\n",
            " |-- V291: double (nullable = true)\n",
            " |-- V292: double (nullable = true)\n",
            " |-- V293: double (nullable = true)\n",
            " |-- V294: double (nullable = true)\n",
            " |-- V295: double (nullable = true)\n",
            " |-- V296: double (nullable = true)\n",
            " |-- V297: double (nullable = true)\n",
            " |-- V298: double (nullable = true)\n",
            " |-- V299: double (nullable = true)\n",
            " |-- V300: double (nullable = true)\n",
            " |-- V301: double (nullable = true)\n",
            " |-- V302: double (nullable = true)\n",
            " |-- V303: double (nullable = true)\n",
            " |-- V304: double (nullable = true)\n",
            " |-- V305: double (nullable = true)\n",
            " |-- V306: double (nullable = true)\n",
            " |-- V307: double (nullable = true)\n",
            " |-- V308: double (nullable = true)\n",
            " |-- V309: double (nullable = true)\n",
            " |-- V310: double (nullable = true)\n",
            " |-- V311: double (nullable = true)\n",
            " |-- V312: double (nullable = true)\n",
            " |-- V313: double (nullable = true)\n",
            " |-- V314: double (nullable = true)\n",
            " |-- V315: double (nullable = true)\n",
            " |-- V316: double (nullable = true)\n",
            " |-- V317: double (nullable = true)\n",
            " |-- V318: double (nullable = true)\n",
            " |-- V319: double (nullable = true)\n",
            " |-- V320: double (nullable = true)\n",
            " |-- V321: double (nullable = true)\n",
            " |-- V322: double (nullable = true)\n",
            " |-- V323: double (nullable = true)\n",
            " |-- V324: double (nullable = true)\n",
            " |-- V325: double (nullable = true)\n",
            " |-- V326: double (nullable = true)\n",
            " |-- V327: double (nullable = true)\n",
            " |-- V328: double (nullable = true)\n",
            " |-- V329: double (nullable = true)\n",
            " |-- V330: double (nullable = true)\n",
            " |-- V331: double (nullable = true)\n",
            " |-- V332: double (nullable = true)\n",
            " |-- V333: double (nullable = true)\n",
            " |-- V334: double (nullable = true)\n",
            " |-- V335: double (nullable = true)\n",
            " |-- V336: double (nullable = true)\n",
            " |-- V337: double (nullable = true)\n",
            " |-- V338: double (nullable = true)\n",
            " |-- V339: double (nullable = true)\n",
            "\n"
          ]
        }
      ],
      "source": [
        "df_train.printSchema()"
      ]
    },
    {
      "cell_type": "code",
      "execution_count": 32,
      "metadata": {
        "colab": {
          "base_uri": "https://localhost:8080/"
        },
        "id": "wm5IBEwtrJao",
        "outputId": "a844857a-397b-4b25-dee2-9f3f095ba302"
      },
      "outputs": [
        {
          "output_type": "execute_result",
          "data": {
            "text/plain": [
              "dict_keys(['id', 'target', 'time', 'double', 'string', 'int'])"
            ]
          },
          "metadata": {},
          "execution_count": 32
        }
      ],
      "source": [
        "def get_schema(df, id ='TransactionID', target='isFraud', time_var='TransactionDT'):\n",
        "  schema = {}    \n",
        "  for (col, dtype) in df.dtypes:\n",
        "    if col == id: schema['id'] = id\n",
        "    elif col == target: schema['target'] = target\n",
        "    elif col == time_var: schema['time'] = time_var \n",
        "    else:      \n",
        "      if not dtype in schema:\n",
        "        schema[dtype] = [col]\n",
        "      else:\n",
        "        schema[dtype].append(col)\n",
        "\n",
        "  return schema\n",
        "\n",
        "schema = get_schema(df_train)\n",
        "schema.keys()"
      ]
    },
    {
      "cell_type": "markdown",
      "metadata": {
        "id": "OxM6qIAXzMJt"
      },
      "source": [
        "## Target variable"
      ]
    },
    {
      "cell_type": "code",
      "execution_count": 8,
      "metadata": {
        "colab": {
          "base_uri": "https://localhost:8080/"
        },
        "id": "7pI2Ht_ujSvQ",
        "outputId": "1d654f2d-7a0e-4a7d-f8f1-d106d1d8afac"
      },
      "outputs": [
        {
          "output_type": "stream",
          "name": "stdout",
          "text": [
            "+-------+------+\n",
            "|isFraud| count|\n",
            "+-------+------+\n",
            "|      1|  5141|\n",
            "|      0|174859|\n",
            "+-------+------+\n",
            "\n"
          ]
        }
      ],
      "source": [
        "target = 'isFraud'\n",
        "df_train.groupBy(target).count().show()"
      ]
    },
    {
      "cell_type": "markdown",
      "metadata": {
        "id": "ucTcqCIbir9d"
      },
      "source": [
        "## Independent variables"
      ]
    },
    {
      "cell_type": "markdown",
      "metadata": {
        "id": "85_GuQ5fdS2F"
      },
      "source": [
        "__Train and test samples__"
      ]
    },
    {
      "cell_type": "code",
      "execution_count": 9,
      "metadata": {
        "id": "tRK8zvb2c7hu"
      },
      "outputs": [],
      "source": [
        "def get_samples(N=1000, seed=25):\n",
        "  n_train = df_train.count()\n",
        "  n_test = df_test.count()\n",
        "  if N >= min(n_train, n_test): N = min(n_train, n_test) \n",
        "\n",
        "  t = min(n_train, n_test, N)\n",
        "  f1 = t / n_train\n",
        "  f2 = t / n_test  \n",
        "  train_sample = df_train.sample(\n",
        "      withReplacement=False, fraction=f1, seed=seed).toPandas()\n",
        "  test_sample = df_test.sample(\n",
        "      withReplacement=False, fraction=f2, seed=seed).toPandas()\n",
        "  \n",
        "  return train_sample, test_sample"
      ]
    },
    {
      "cell_type": "markdown",
      "metadata": {
        "id": "-e_GdzK2dk0r"
      },
      "source": [
        "__Chi2 test__"
      ]
    },
    {
      "cell_type": "code",
      "execution_count": 10,
      "metadata": {
        "id": "to6ZTQv0deAB"
      },
      "outputs": [],
      "source": [
        "from scipy.stats import chisquare\n",
        "import pandas as pd\n",
        "\n",
        "def chi2_test(train_sample, test_sample, vars, p=0.025):  \n",
        "  p_values = []\n",
        "  for var in vars:\n",
        "    a = train_sample[var].value_counts()\n",
        "    b = test_sample[var].value_counts()\n",
        "    df = pd.concat([a, b], axis=1).fillna(1e-01)\n",
        "    observed = df.iloc[:, 1]\n",
        "    expected = df.iloc[:, 0] / df.iloc[:, 0].sum() * df.iloc[:, 1].sum()\n",
        "    (_, p_value_chi2)= chisquare(f_obs= observed, f_exp= expected)\n",
        "\n",
        "    p_values.append(p_value_chi2)\n",
        "  stat = pd.DataFrame(index=vars)\n",
        "  stat['p-values'] = p_values\n",
        "  vars_selected = stat[stat['p-values'] > p].index.tolist()\n",
        "\n",
        "  return vars_selected"
      ]
    },
    {
      "cell_type": "markdown",
      "metadata": {
        "id": "Fy7c1jY-oWsu"
      },
      "source": [
        "__Statistical tests for continuous variables:__"
      ]
    },
    {
      "cell_type": "code",
      "execution_count": 11,
      "metadata": {
        "id": "CnIzpni9oRsr"
      },
      "outputs": [],
      "source": [
        "from scipy.stats import ttest_ind, mannwhitneyu, ks_2samp\n",
        "\n",
        "def stat_tests_continuous(train_sample, test_sample, vars, p=0.025):\n",
        "  vars_selected = []\n",
        "  for var in vars:\n",
        "    a = train_sample[var].fillna(0).values\n",
        "    b = test_sample[var].fillna(0).values\n",
        "    _, p_value_ttest = ttest_ind(a, b)        \n",
        "    _, p_value_ks = ks_2samp(a, b) \n",
        "    _, p_value_mw = mannwhitneyu(a, b)\n",
        "    \n",
        "    if (p_value_ttest > p  and p_value_ks > p and p_value_mw > p): \n",
        "      vars_selected.append(var) \n",
        "\n",
        "  return vars_selected"
      ]
    },
    {
      "cell_type": "markdown",
      "metadata": {
        "id": "R9Q0pKKc6TAW"
      },
      "source": [
        "### 1. Time variables"
      ]
    },
    {
      "cell_type": "code",
      "execution_count": 12,
      "metadata": {
        "id": "j6qtNSpV6SC2"
      },
      "outputs": [],
      "source": [
        "from pyspark.sql import functions as F \n",
        "from pyspark.sql.types import IntegerType\n",
        "\n",
        "def get_time_features(df):\n",
        "  w = 60 * 60 * 24 * 7\n",
        "  d = 60 * 60 * 24\n",
        "  h = 60 * 60\n",
        "  m = 60  \n",
        "  time_var = schema['time']\n",
        "\n",
        "  df = df.withColumn('weekdays', ((df[time_var] % w) / d)\\\n",
        "                     .cast(IntegerType()))  \n",
        "  df = df.withColumn(\n",
        "      'weekdays', F.when(F.col('weekdays') > 2, df['weekdays'] - 3)\\\n",
        "      .otherwise(df['weekdays'] + 4))\n",
        "  \n",
        "  df = df.withColumn('hours', ((df[time_var] % d) / h)\\\n",
        "                     .cast(IntegerType()))  \n",
        "  df = df.withColumn(\n",
        "      'hours', F.when(F.col('hours') < 7, df['hours'] + 14)\\\n",
        "      .otherwise(df['hours'] - 7))\n",
        "\n",
        "  df = df.withColumn('minutes', (((df[time_var] % d) % h) / m)\\\n",
        "                     .cast(IntegerType()))\n",
        "    \n",
        "  return df "
      ]
    },
    {
      "cell_type": "code",
      "execution_count": 13,
      "metadata": {
        "id": "arIy_6m56RQn"
      },
      "outputs": [],
      "source": [
        "df_train = get_time_features(df_train)\n",
        "df_test = get_time_features(df_test)"
      ]
    },
    {
      "cell_type": "code",
      "source": [
        "train_sample, test_sample = get_samples(N=1000, seed=18)"
      ],
      "metadata": {
        "id": "_3Ba1Fl6RBxI"
      },
      "execution_count": 62,
      "outputs": []
    },
    {
      "cell_type": "markdown",
      "source": [
        "### 2. Categorical variables\n"
      ],
      "metadata": {
        "id": "JglQ1ek1_iU5"
      }
    },
    {
      "cell_type": "code",
      "source": [
        "categorical_vars = schema['string']\n",
        "len(categorical_vars)"
      ],
      "metadata": {
        "colab": {
          "base_uri": "https://localhost:8080/"
        },
        "id": "6_3UobQD_yF-",
        "outputId": "9543e19d-fc79-4ab8-d037-7989ec96bdfe"
      },
      "execution_count": 35,
      "outputs": [
        {
          "output_type": "execute_result",
          "data": {
            "text/plain": [
              "14"
            ]
          },
          "metadata": {},
          "execution_count": 35
        }
      ]
    },
    {
      "cell_type": "code",
      "source": [
        "for var in categorical_vars:\n",
        "  df_train.groupBy(var).count().orderBy('count', ascending=False).show()"
      ],
      "metadata": {
        "colab": {
          "base_uri": "https://localhost:8080/"
        },
        "id": "Zn2cdzicBF04",
        "outputId": "af5f1ebb-7fca-4b1e-b4b7-81d53c87ebbb"
      },
      "execution_count": 36,
      "outputs": [
        {
          "output_type": "stream",
          "name": "stdout",
          "text": [
            "+---------+------+\n",
            "|ProductCD| count|\n",
            "+---------+------+\n",
            "|        W|110340|\n",
            "|        H| 22422|\n",
            "|        R| 21926|\n",
            "|        C| 21664|\n",
            "|        S|  3648|\n",
            "+---------+------+\n",
            "\n",
            "+----------------+------+\n",
            "|           card4| count|\n",
            "+----------------+------+\n",
            "|            visa|118295|\n",
            "|      mastercard| 54501|\n",
            "|american express|  4818|\n",
            "|        discover|  2378|\n",
            "|            null|     8|\n",
            "+----------------+------+\n",
            "\n",
            "+---------------+------+\n",
            "|          card6| count|\n",
            "+---------------+------+\n",
            "|          debit|122746|\n",
            "|         credit| 57229|\n",
            "|debit or credit|    10|\n",
            "|    charge card|     8|\n",
            "|           null|     7|\n",
            "+---------------+------+\n",
            "\n",
            "+-------------+-----+\n",
            "|P_emaildomain|count|\n",
            "+-------------+-----+\n",
            "|    gmail.com|67198|\n",
            "|    yahoo.com|28992|\n",
            "|         null|28440|\n",
            "|  hotmail.com|15058|\n",
            "|anonymous.com|13328|\n",
            "|      aol.com| 8583|\n",
            "|  comcast.net| 2916|\n",
            "|   icloud.com| 1677|\n",
            "|  outlook.com| 1484|\n",
            "|      msn.com| 1423|\n",
            "|      att.net| 1223|\n",
            "|sbcglobal.net| 1092|\n",
            "|  verizon.net|  971|\n",
            "|     live.com|  894|\n",
            "|bellsouth.net|  713|\n",
            "|    ymail.com|  654|\n",
            "|       me.com|  624|\n",
            "|      cox.net|  570|\n",
            "| yahoo.com.mx|  522|\n",
            "|  charter.net|  372|\n",
            "+-------------+-----+\n",
            "only showing top 20 rows\n",
            "\n",
            "+-------------+------+\n",
            "|R_emaildomain| count|\n",
            "+-------------+------+\n",
            "|         null|119700|\n",
            "|    gmail.com| 24644|\n",
            "|  hotmail.com| 10129|\n",
            "|anonymous.com|  9882|\n",
            "|    yahoo.com|  5666|\n",
            "|      aol.com|  2232|\n",
            "|  comcast.net|  1185|\n",
            "|  outlook.com|   824|\n",
            "|   icloud.com|   605|\n",
            "| yahoo.com.mx|   520|\n",
            "|      msn.com|   478|\n",
            "|  verizon.net|   404|\n",
            "|sbcglobal.net|   374|\n",
            "|     live.com|   339|\n",
            "|      cox.net|   329|\n",
            "|       me.com|   293|\n",
            "|bellsouth.net|   284|\n",
            "|      att.net|   283|\n",
            "|  live.com.mx|   254|\n",
            "|   outlook.es|   141|\n",
            "+-------------+------+\n",
            "only showing top 20 rows\n",
            "\n",
            "+----+------+\n",
            "|  M1| count|\n",
            "+----+------+\n",
            "|null|118251|\n",
            "|   T| 61748|\n",
            "|   F|     1|\n",
            "+----+------+\n",
            "\n",
            "+----+------+\n",
            "|  M2| count|\n",
            "+----+------+\n",
            "|null|118251|\n",
            "|   T| 55657|\n",
            "|   F|  6092|\n",
            "+----+------+\n",
            "\n",
            "+----+------+\n",
            "|  M3| count|\n",
            "+----+------+\n",
            "|null|118251|\n",
            "|   T| 48603|\n",
            "|   F| 13146|\n",
            "+----+------+\n",
            "\n",
            "+----+-----+\n",
            "|  M4|count|\n",
            "+----+-----+\n",
            "|null|96724|\n",
            "|  M0|51229|\n",
            "|  M2|18658|\n",
            "|  M1|13389|\n",
            "+----+-----+\n",
            "\n",
            "+----+------+\n",
            "|  M5| count|\n",
            "+----+------+\n",
            "|null|118297|\n",
            "|   F| 34262|\n",
            "|   T| 27441|\n",
            "+----+------+\n",
            "\n",
            "+----+-----+\n",
            "|  M6|count|\n",
            "+----+-----+\n",
            "|null|74348|\n",
            "|   F|56627|\n",
            "|   T|49025|\n",
            "+----+-----+\n",
            "\n",
            "+----+------+\n",
            "|  M7| count|\n",
            "+----+------+\n",
            "|null|148348|\n",
            "|   F| 27118|\n",
            "|   T|  4534|\n",
            "+----+------+\n",
            "\n",
            "+----+------+\n",
            "|  M8| count|\n",
            "+----+------+\n",
            "|null|148348|\n",
            "|   F| 19814|\n",
            "|   T| 11838|\n",
            "+----+------+\n",
            "\n",
            "+----+------+\n",
            "|  M9| count|\n",
            "+----+------+\n",
            "|null|148348|\n",
            "|   T| 26970|\n",
            "|   F|  4682|\n",
            "+----+------+\n",
            "\n"
          ]
        }
      ]
    },
    {
      "cell_type": "code",
      "source": [
        "schema['categorical'] = chi2_test(train_sample, test_sample, schema['string'], p=0.025)\n",
        "schema['categorical']"
      ],
      "metadata": {
        "colab": {
          "base_uri": "https://localhost:8080/"
        },
        "id": "9_3ulfzp__oG",
        "outputId": "66125466-2c16-42fd-8a79-998a4e20ea25"
      },
      "execution_count": 63,
      "outputs": [
        {
          "output_type": "execute_result",
          "data": {
            "text/plain": [
              "['M2', 'M3', 'M5', 'M6', 'M7', 'M8', 'M9']"
            ]
          },
          "metadata": {},
          "execution_count": 63
        }
      ]
    },
    {
      "cell_type": "markdown",
      "source": [
        "### 3. Discrete independent variables"
      ],
      "metadata": {
        "id": "8szepByjqtCl"
      }
    },
    {
      "cell_type": "code",
      "source": [
        "f1 = 5000 / df_train.count()\n",
        "df = df_train.sample(withReplacement=False, fraction=f1, seed=0).toPandas()\n",
        "n_unique = df.nunique()"
      ],
      "metadata": {
        "id": "Nb_8ed0mFjBp"
      },
      "execution_count": 64,
      "outputs": []
    },
    {
      "cell_type": "code",
      "source": [
        "discrete_list = n_unique[n_unique <= 25].index.tolist()\n",
        "exceptions_list = [target] + categorical_vars \n",
        "\n",
        "discrete_vars = [var for var in discrete_list if not var in exceptions_list]\n",
        "len(discrete_vars)"
      ],
      "metadata": {
        "colab": {
          "base_uri": "https://localhost:8080/"
        },
        "id": "JzW2jobE15wz",
        "outputId": "69b3dba2-83fd-4552-adac-4dd9be5e305e"
      },
      "execution_count": 65,
      "outputs": [
        {
          "output_type": "execute_result",
          "data": {
            "text/plain": [
              "259"
            ]
          },
          "metadata": {},
          "execution_count": 65
        }
      ]
    },
    {
      "cell_type": "code",
      "source": [
        "schema['discrete'] = chi2_test(train_sample, test_sample, discrete_vars, p=0.025)\n",
        "len(schema['discrete'])"
      ],
      "metadata": {
        "colab": {
          "base_uri": "https://localhost:8080/"
        },
        "id": "C1rpJq3N3dQr",
        "outputId": "d0aa94ea-06c7-4cc9-a476-9e0117fc18be"
      },
      "execution_count": 66,
      "outputs": [
        {
          "output_type": "execute_result",
          "data": {
            "text/plain": [
              "92"
            ]
          },
          "metadata": {},
          "execution_count": 66
        }
      ]
    },
    {
      "cell_type": "markdown",
      "source": [
        "### 4. Continuous independent variables"
      ],
      "metadata": {
        "id": "9zEoYZc94u1N"
      }
    },
    {
      "cell_type": "code",
      "source": [
        "continuous_list = n_unique[n_unique > 25].index.tolist()\n",
        "exceptions_list = schema['string'] \n",
        "\n",
        "continuous_vars = [var for var in continuous_list if not var in exceptions_list]\n",
        "len(continuous_vars)"
      ],
      "metadata": {
        "colab": {
          "base_uri": "https://localhost:8080/"
        },
        "id": "iPE4yKBs3Ny6",
        "outputId": "d54b3b9a-9cca-4cc1-ff98-eefc649d3282"
      },
      "execution_count": 67,
      "outputs": [
        {
          "output_type": "execute_result",
          "data": {
            "text/plain": [
              "123"
            ]
          },
          "metadata": {},
          "execution_count": 67
        }
      ]
    },
    {
      "cell_type": "code",
      "source": [
        "schema['continuous'] = stat_tests_continuous(train_sample, test_sample, continuous_vars)\n",
        "len(schema['continuous'])"
      ],
      "metadata": {
        "colab": {
          "base_uri": "https://localhost:8080/"
        },
        "id": "AaxApuGU7K1B",
        "outputId": "8d0d4705-f520-4037-92e5-5bf95b8e5807"
      },
      "execution_count": 68,
      "outputs": [
        {
          "output_type": "execute_result",
          "data": {
            "text/plain": [
              "48"
            ]
          },
          "metadata": {},
          "execution_count": 68
        }
      ]
    },
    {
      "cell_type": "code",
      "execution_count": 73,
      "metadata": {
        "id": "UG0uT6P39ad6",
        "colab": {
          "base_uri": "https://localhost:8080/"
        },
        "outputId": "9c9aae74-b1f3-4148-e550-b623fc47d47f"
      },
      "outputs": [
        {
          "output_type": "execute_result",
          "data": {
            "text/plain": [
              "dict_keys(['id', 'target', 'time', 'double', 'string', 'int', 'categorical', 'discrete', 'continuous'])"
            ]
          },
          "metadata": {},
          "execution_count": 73
        }
      ],
      "source": [
        "schema.keys()"
      ]
    },
    {
      "cell_type": "markdown",
      "source": [
        "# Data validator"
      ],
      "metadata": {
        "id": "FFS-J7aY8ecc"
      }
    },
    {
      "cell_type": "code",
      "source": [
        "import pandas as pd\n",
        "from scipy.stats import ttest_ind, mannwhitneyu, chisquare, ks_2samp, norm\n",
        "\n",
        "class DataValidator():\n",
        "  def __init__(self, id='TransactionID', target='isFraud', \n",
        "               time_var='TransactionDT', sample_size=1000, p=0.025, seed=18):    \n",
        "    self.schema = {}\n",
        "    self.schema['id'] = id\n",
        "    self.schema['target'] = target\n",
        "    self.schema['time_var'] = time_var\n",
        "    self.schema['time'] = ['weekdays', 'hours', 'minutes']\n",
        "    self.ignore_list = [id, target, time_var]    \n",
        "    \n",
        "    self.N = sample_size\n",
        "    self.p = p\n",
        "    self.seed = seed\n",
        "    \n",
        "    self.train_test_schemas_the_same = False\n",
        "    self.n_train = None\n",
        "    self.n_test = None \n",
        "    self.train_sample = None  \n",
        "    self.test_sample = None\n",
        "\n",
        "\n",
        "  def check_train_test_schemas(self, df_train, df_test):\n",
        "    target = self.schema['target']\n",
        "    i = [var for var in df_train.columns if var != target]\n",
        "    j = [var for var in df_test.columns if var != target]\n",
        "    self.train_test_schemas_the_same = (df_train[i].schema == df_test[j].schema)\n",
        "     \n",
        "\n",
        "  def get_schema(self, df_train):    \n",
        "    for (var, dtype) in df_train.dtypes:\n",
        "      if var in self.ignore_list: continue          \n",
        "      if dtype in self.schema:\n",
        "        self.schema[dtype].append(var)\n",
        "      else:\n",
        "        self.schema[dtype] = [var]\n",
        "\n",
        "\n",
        "  def get_samples(self, df_train, df_test):\n",
        "    n_train = df_train.count()\n",
        "    n_test = df_test.count()\n",
        "\n",
        "    if self.N >= min(n_train, n_test): \n",
        "      self.N = min(n_train, n_test) \n",
        "\n",
        "    t = min(n_train, n_test, self.N)\n",
        "    f1 = t / n_train\n",
        "    f2 = t / n_test  \n",
        "    self.train_sample = df_train.sample(\n",
        "        withReplacement=True, fraction=f1, seed=self.seed\n",
        "        ).toPandas()\n",
        "    self.test_sample = df_test.sample(\n",
        "        withReplacement=True, fraction=f2, seed=self.seed\n",
        "        ).toPandas() \n",
        "    self.n_train = n_train\n",
        "    \n",
        "\n",
        "  def chi2_test(self, vars):  \n",
        "    p_values = []\n",
        "    for var in vars:\n",
        "      a = self.train_sample[var].value_counts()\n",
        "      b = self.test_sample[var].value_counts()\n",
        "      df = pd.concat([a, b], axis=1).fillna(1e-01)\n",
        "      observed = df.iloc[:, 1]\n",
        "      expected = df.iloc[:, 0] / df.iloc[:, 0].sum() * df.iloc[:, 1].sum()\n",
        "      (_, p_value_chi2)= chisquare(f_obs= observed, f_exp= expected)\n",
        "      p_values.append(p_value_chi2)\n",
        "\n",
        "    stat = pd.DataFrame(index=vars)\n",
        "    stat['p-values'] = p_values\n",
        "    vars_selected = stat[stat['p-values'] > self.p].index.tolist()\n",
        "\n",
        "    return vars_selected\n",
        "\n",
        "\n",
        "  def stat_tests_continuous(self, vars):\n",
        "    vars_selected = []\n",
        "    for var in vars:\n",
        "      a = self.train_sample[var].fillna(0).values\n",
        "      b = self.test_sample[var].fillna(0).values\n",
        "      _, p_value_ttest = ttest_ind(a, b)        \n",
        "      _, p_value_ks = ks_2samp(a, b) \n",
        "      _, p_value_mw = mannwhitneyu(a, b)\n",
        "      \n",
        "      p = self.p\n",
        "      if (p_value_ttest > p  and p_value_ks > p and p_value_mw > p): \n",
        "        vars_selected.append(var) \n",
        "\n",
        "    return vars_selected\n",
        "\n",
        "\n",
        "  def get_numerical_variables(self, df_train):    \n",
        "    f1 = min(5000, self.n_train) / self.n_train\n",
        "    df = df_train.sample(withReplacement=False, fraction=f1, seed=0).toPandas()\n",
        "    \n",
        "    n_unique = df.nunique()\n",
        "    discrete_list = n_unique[n_unique <= 25].index.tolist()\n",
        "    continuous_list = n_unique[n_unique > 25].index.tolist()\n",
        "    ignore_list = self.ignore_list + self.schema['string']\n",
        "\n",
        "    discrete_vars = [var for var in discrete_list if not var in ignore_list]  \n",
        "    continuous_vars = [var for var in continuous_list if not var in ignore_list]  \n",
        "    \n",
        "    self.schema['discrete'] = self.chi2_test(discrete_vars)\n",
        "    self.schema['continuous'] = self.stat_tests_continuous(continuous_vars)\n",
        "\n",
        "\n",
        "  def fit(self, df_train, df_test): \n",
        "    self.check_train_test_schemas(df_train, df_test)\n",
        "    if self.train_test_schemas_the_same:   \n",
        "      self.get_schema(df_train)\n",
        "      self.get_samples(df_train, df_test)\n",
        "      self.schema['categorical'] = self.chi2_test(self.schema['string'])\n",
        "      self.get_numerical_variables(df_train)    \n",
        "\n",
        "    return self.schema"
      ],
      "metadata": {
        "id": "HwDYiGTg8TZ4"
      },
      "execution_count": 5,
      "outputs": []
    },
    {
      "cell_type": "markdown",
      "source": [
        "# Custom Transformers"
      ],
      "metadata": {
        "id": "3eqqLk9UrAbr"
      }
    },
    {
      "cell_type": "code",
      "source": [
        "#from pyspark.ml import Pipeline, Transformer  Estimator\n",
        "#class CustomTransformer(Transformer):\n",
        "#  def _transform(self, df) -> DataFrame:\n",
        "\n",
        "#class CustomEstimator(Estimator):\n",
        "#  def _fit(self, df) -> CustomTransformer:"
      ],
      "metadata": {
        "id": "OzvhFNBmD0KJ"
      },
      "execution_count": null,
      "outputs": []
    },
    {
      "cell_type": "code",
      "source": [
        "import pyspark.sql.functions as F\n",
        "from pyspark.sql import DataFrame\n",
        "from pyspark.sql.types import IntegerType, StringType\n",
        "from pyspark.ml import Pipeline, Transformer \n",
        "from typing import Iterable\n",
        "\n",
        "\n",
        "class StringFromDiscrete(Transformer):\n",
        "    \"\"\"\n",
        "    A custom Transformer which generates string variables from discrete.\n",
        "    \"\"\"\n",
        "\n",
        "    def __init__(self, var_list: Iterable[str]):\n",
        "      super(StringFromDiscrete, self).__init__()\n",
        "      self.var_list = var_list\n",
        "\n",
        "    def _transform(self, df: DataFrame) -> DataFrame:\n",
        "      for var in self.var_list:\n",
        "        df = df.withColumn(var + '_str', df[var].cast(StringType()))\n",
        "      \n",
        "      return df\n",
        "\n",
        "\n",
        "class TimeFeaturesGenerator(Transformer):\n",
        "    \"\"\"\n",
        "    A custom Transformer which generates weekdays, hours and minutes from time \n",
        "    variable.\n",
        "    \"\"\"\n",
        "\n",
        "    def __init__(self, time_var: str):\n",
        "      super(TimeFeaturesGenerator, self).__init__()\n",
        "      self.time_var = time_var\n",
        "\n",
        "    def _transform(self, df: DataFrame) -> DataFrame:\n",
        "      w = 60 * 60 * 24 * 7\n",
        "      d = 60 * 60 * 24\n",
        "      h = 60 * 60\n",
        "      m = 60 \n",
        "      time_var = self.time_var \n",
        "      df = df.withColumn('weekdays', (\n",
        "          (df[time_var] % w) / d).cast(IntegerType())\n",
        "          )  \n",
        "      df = df.withColumn(\n",
        "          'weekdays', F.when(F.col('weekdays') > 2, df['weekdays'] - 3)\\\n",
        "          .otherwise(df['weekdays'] + 4)\n",
        "          )    \n",
        "      df = df.withColumn('hours', (\n",
        "          (df[time_var] % d) / h).cast(IntegerType())\n",
        "          )  \n",
        "      df = df.withColumn(\n",
        "          'hours', F.when(F.col('hours') < 7, df['hours'] + 14)\\\n",
        "          .otherwise(df['hours'] - 7)\n",
        "          )\n",
        "      df = df.withColumn(\n",
        "          'minutes', (((df[time_var] % d) % h) / m).cast(IntegerType())\n",
        "          )      \n",
        "      \n",
        "      return df"
      ],
      "metadata": {
        "id": "VrMCmxDP07nL"
      },
      "execution_count": 7,
      "outputs": []
    },
    {
      "cell_type": "markdown",
      "source": [
        "# Pipeline"
      ],
      "metadata": {
        "id": "Z5PBOOYT7S8u"
      }
    },
    {
      "cell_type": "code",
      "source": [
        "from pyspark.ml.feature import StringIndexer, OneHotEncoder, Imputer\n",
        "from pyspark.ml.feature import VectorAssembler, MinMaxScaler, RobustScaler\n",
        "\n",
        "validator = DataValidator()\n",
        "schema = validator.fit(df_train, df_test)\n",
        "\n",
        "make_string_columns_from_discrete = StringFromDiscrete(var_list=schema['discrete'])\n",
        "get_time_features = TimeFeaturesGenerator(time_var=schema['time_var'])\n",
        "\n",
        "string_indexer = StringIndexer(\n",
        "    inputCols=schema['categorical'], \n",
        "    outputCols=[i + '_index' for i in schema['categorical']],\n",
        "    handleInvalid='keep'\n",
        "    )\n",
        "string_one_hot_encoder = OneHotEncoder(\n",
        "    inputCols=[i + '_index' for i in schema['categorical']], \n",
        "    outputCols=[i + '_encoded' for i in schema['categorical']]\n",
        "    )\n",
        "discrete_vars = schema['discrete'] + schema['time']\n",
        "discrete_imputer = Imputer(\n",
        "    inputCols=discrete_vars , \n",
        "    outputCols=[var + '_imputed' for var in discrete_vars ],\n",
        "    strategy='mode'\n",
        "    )\n",
        "discrete_features_assembler = VectorAssembler(\n",
        "    inputCols=[var + '_imputed' for var in discrete_vars], \n",
        "    outputCol='discrete_assembled'\n",
        "    )\n",
        "discrete_minmax_scaler = MinMaxScaler(\n",
        "    inputCol='discrete_assembled', \n",
        "    outputCol='discrete_vector_scaled'\n",
        "    )\n",
        "discrete_string_indexer = StringIndexer(\n",
        "    inputCols=[i + '_str' for i in schema['discrete']], \n",
        "    outputCols=[i + '_index' for i in schema['discrete']],\n",
        "    handleInvalid='keep'\n",
        "    )\n",
        "discrete_one_hot_encoder = OneHotEncoder(\n",
        "    inputCols=[i + '_index' for i in schema['discrete']], \n",
        "    outputCols=[i + '_encoded' for i in schema['discrete']],    \n",
        "    )\n",
        "continuous_imputer = Imputer(\n",
        "    inputCols=schema['continuous'], \n",
        "    outputCols=[i + '_imputed' for i in schema['continuous']],\n",
        "    strategy='median'\n",
        "    )\n",
        "continuous_features_assembler = VectorAssembler(\n",
        "    inputCols=[i + '_imputed' for i in schema['continuous']], \n",
        "    outputCol='continuous_assembled'\n",
        "    )\n",
        "continuous_robust_scaler = RobustScaler(\n",
        "    inputCol='continuous_assembled', \n",
        "    outputCol='continuous_vector_scaled'\n",
        "    )\n",
        "\n",
        "cat_vars = [var + '_encoded' for var in schema['categorical']]\n",
        "disc_vars = ['discrete_vector_scaled'] + [var + '_encoded' for var in schema['discrete']]\n",
        "cont_vars = ['continuous_vector_scaled']  \n",
        "vars = cat_vars + disc_vars + cont_vars\n",
        "features_assembler = VectorAssembler(\n",
        "    inputCols=vars, \n",
        "    outputCol='features'\n",
        "    )"
      ],
      "metadata": {
        "id": "6osUm2Sq7Uh6"
      },
      "execution_count": 8,
      "outputs": []
    },
    {
      "cell_type": "code",
      "source": [
        "feat_ext_pipe = Pipeline(\n",
        "    stages=[make_string_columns_from_discrete,\n",
        "            get_time_features,\n",
        "            string_indexer,\n",
        "            string_one_hot_encoder,\n",
        "            discrete_imputer,\n",
        "            discrete_features_assembler,\n",
        "            discrete_minmax_scaler,\n",
        "            discrete_string_indexer,\n",
        "            discrete_one_hot_encoder,\n",
        "            continuous_imputer,\n",
        "            continuous_features_assembler,\n",
        "            continuous_robust_scaler,\n",
        "            features_assembler]\n",
        "            ).fit(df_train)\n",
        "    \n",
        "df1 = feat_ext_pipe.transform(df_train)\n",
        "df2 = feat_ext_pipe.transform(df_test)\n",
        "df1.select('features').show(10)"
      ],
      "metadata": {
        "colab": {
          "base_uri": "https://localhost:8080/"
        },
        "id": "dYDJWzlk3zV9",
        "outputId": "3def94d3-5de8-46ba-a762-3a24b0240780"
      },
      "execution_count": 9,
      "outputs": [
        {
          "output_type": "stream",
          "name": "stdout",
          "text": [
            "+--------------------+\n",
            "|            features|\n",
            "+--------------------+\n",
            "|(1212,[0,3,5,8,13...|\n",
            "|(1212,[2,6,8,13,1...|\n",
            "|(1212,[0,2,5,7,9,...|\n",
            "|(1212,[2,6,7,13,1...|\n",
            "|(1212,[13,15,20,2...|\n",
            "|(1212,[0,4,5,8,13...|\n",
            "|(1212,[0,2,5,7,10...|\n",
            "|(1212,[2,5,7,13,1...|\n",
            "|(1212,[13,15,20,2...|\n",
            "|(1212,[0,2,6,8,13...|\n",
            "+--------------------+\n",
            "only showing top 10 rows\n",
            "\n"
          ]
        }
      ]
    },
    {
      "cell_type": "markdown",
      "source": [
        "# Notes"
      ],
      "metadata": {
        "id": "nCJYpGDuLY-Z"
      }
    },
    {
      "cell_type": "markdown",
      "source": [
        "## Categorical variables"
      ],
      "metadata": {
        "id": "Wst6pV7WKs64"
      }
    },
    {
      "cell_type": "code",
      "source": [
        "from pyspark.ml.feature import StringIndexer\n",
        "\n",
        "string_indexer = StringIndexer(\n",
        "    inputCols=schema['categorical'], \n",
        "    outputCols=[i + '_index' for i in schema['categorical']],\n",
        "    handleInvalid='keep'\n",
        "    )\n",
        "string_indexer_model = string_indexer.fit(df_train)\n",
        "df_train = string_indexer_model.transform(df_train)\n",
        "\n",
        "df_train.select([i + '_index' for i in schema['categorical']]).show(10)"
      ],
      "metadata": {
        "colab": {
          "base_uri": "https://localhost:8080/"
        },
        "id": "ji75_ZnGKqcl",
        "outputId": "8ac48d8e-b588-4964-dadb-066c11e04e61"
      },
      "execution_count": 8,
      "outputs": [
        {
          "output_type": "stream",
          "name": "stdout",
          "text": [
            "+--------+--------+--------+--------+--------+--------+\n",
            "|M2_index|M4_index|M5_index|M6_index|M7_index|M8_index|\n",
            "+--------+--------+--------+--------+--------+--------+\n",
            "|     0.0|     1.0|     0.0|     1.0|     2.0|     2.0|\n",
            "|     2.0|     0.0|     1.0|     1.0|     2.0|     2.0|\n",
            "|     0.0|     0.0|     0.0|     0.0|     0.0|     0.0|\n",
            "|     2.0|     0.0|     1.0|     0.0|     2.0|     2.0|\n",
            "|     2.0|     3.0|     2.0|     2.0|     2.0|     2.0|\n",
            "|     0.0|     2.0|     0.0|     1.0|     2.0|     2.0|\n",
            "|     0.0|     0.0|     0.0|     0.0|     1.0|     1.0|\n",
            "|     2.0|     0.0|     0.0|     0.0|     2.0|     2.0|\n",
            "|     2.0|     3.0|     2.0|     2.0|     2.0|     2.0|\n",
            "|     0.0|     0.0|     1.0|     1.0|     2.0|     2.0|\n",
            "+--------+--------+--------+--------+--------+--------+\n",
            "only showing top 10 rows\n",
            "\n"
          ]
        }
      ]
    },
    {
      "cell_type": "code",
      "source": [
        "from pyspark.ml.feature import OneHotEncoder\n",
        "\n",
        "string_one_hot_encoder = OneHotEncoder(\n",
        "    inputCols=[i + '_index' for i in schema['categorical']], \n",
        "    outputCols=[i + '_encoded' for i in schema['categorical']]\n",
        "    )\n",
        "string_one_hot_encoder_model = string_one_hot_encoder.fit(df_train)\n",
        "df_train = string_one_hot_encoder_model.transform(df_train)\n",
        "df_train.select([i + '_encoded' for i in schema['categorical']]).show(10)"
      ],
      "metadata": {
        "colab": {
          "base_uri": "https://localhost:8080/"
        },
        "id": "ZkfGEmqMMY_M",
        "outputId": "4683f3c7-0a03-4a74-ea79-fb517f3f0d07"
      },
      "execution_count": 9,
      "outputs": [
        {
          "output_type": "stream",
          "name": "stdout",
          "text": [
            "+-------------+-------------+-------------+-------------+-------------+-------------+\n",
            "|   M2_encoded|   M4_encoded|   M5_encoded|   M6_encoded|   M7_encoded|   M8_encoded|\n",
            "+-------------+-------------+-------------+-------------+-------------+-------------+\n",
            "|(2,[0],[1.0])|(3,[1],[1.0])|(2,[0],[1.0])|(2,[1],[1.0])|    (2,[],[])|    (2,[],[])|\n",
            "|    (2,[],[])|(3,[0],[1.0])|(2,[1],[1.0])|(2,[1],[1.0])|    (2,[],[])|    (2,[],[])|\n",
            "|(2,[0],[1.0])|(3,[0],[1.0])|(2,[0],[1.0])|(2,[0],[1.0])|(2,[0],[1.0])|(2,[0],[1.0])|\n",
            "|    (2,[],[])|(3,[0],[1.0])|(2,[1],[1.0])|(2,[0],[1.0])|    (2,[],[])|    (2,[],[])|\n",
            "|    (2,[],[])|    (3,[],[])|    (2,[],[])|    (2,[],[])|    (2,[],[])|    (2,[],[])|\n",
            "|(2,[0],[1.0])|(3,[2],[1.0])|(2,[0],[1.0])|(2,[1],[1.0])|    (2,[],[])|    (2,[],[])|\n",
            "|(2,[0],[1.0])|(3,[0],[1.0])|(2,[0],[1.0])|(2,[0],[1.0])|(2,[1],[1.0])|(2,[1],[1.0])|\n",
            "|    (2,[],[])|(3,[0],[1.0])|(2,[0],[1.0])|(2,[0],[1.0])|    (2,[],[])|    (2,[],[])|\n",
            "|    (2,[],[])|    (3,[],[])|    (2,[],[])|    (2,[],[])|    (2,[],[])|    (2,[],[])|\n",
            "|(2,[0],[1.0])|(3,[0],[1.0])|(2,[1],[1.0])|(2,[1],[1.0])|    (2,[],[])|    (2,[],[])|\n",
            "+-------------+-------------+-------------+-------------+-------------+-------------+\n",
            "only showing top 10 rows\n",
            "\n"
          ]
        }
      ]
    },
    {
      "cell_type": "markdown",
      "source": [
        "## Discrete variables"
      ],
      "metadata": {
        "id": "tagyRhVFNVA9"
      }
    },
    {
      "cell_type": "markdown",
      "source": [
        "### As numeric"
      ],
      "metadata": {
        "id": "UDwITI2rbRxB"
      }
    },
    {
      "cell_type": "code",
      "source": [
        "from pyspark.ml.feature import Imputer, VectorAssembler, MinMaxScaler\n",
        "\n",
        "discrete_imputer = Imputer(\n",
        "    inputCols=schema['discrete'], \n",
        "    outputCols=[var + '_imputed' for var in schema['discrete']],\n",
        "    strategy='mode'\n",
        "    )\n",
        "discrete_imputer_model = discrete_imputer.fit(df_train)\n",
        "df_train = discrete_imputer_model.transform(df_train)\n",
        "#df_train.select([i + '_imputed' for i in schema['continuous']]).show(10)"
      ],
      "metadata": {
        "id": "zHYC8D9FPInz"
      },
      "execution_count": 30,
      "outputs": []
    },
    {
      "cell_type": "code",
      "source": [
        "discrete_features_assembler = VectorAssembler(\n",
        "    inputCols=[var + '_imputed' for var in schema['discrete']], \n",
        "    outputCol='discrete_assembled')\n",
        "\n",
        "df_train = discrete_features_assembler.transform(df_train)"
      ],
      "metadata": {
        "id": "irpmDmObb1fX"
      },
      "execution_count": 31,
      "outputs": []
    },
    {
      "cell_type": "code",
      "source": [
        "discrete_minmax_scaler = MinMaxScaler(\n",
        "    inputCol='discrete_assembled', outputCol='discrete_vector_scaled')\n",
        "\n",
        "discrete_minmax_scaler_model = discrete_minmax_scaler.fit(df_train)\n",
        "df_train = discrete_minmax_scaler_model.transform(df_train)\n",
        "\n",
        "df_train.select('discrete_vector_scaled').show(10)"
      ],
      "metadata": {
        "colab": {
          "base_uri": "https://localhost:8080/"
        },
        "id": "Radki1LncXnk",
        "outputId": "0b60e25f-345f-4da7-bcab-15a01df5e8b0"
      },
      "execution_count": 33,
      "outputs": [
        {
          "output_type": "stream",
          "name": "stdout",
          "text": [
            "+----------------------+\n",
            "|discrete_vector_scaled|\n",
            "+----------------------+\n",
            "|  (69,[0,2,7,8,12,1...|\n",
            "|  (69,[0,2,7,8,12,1...|\n",
            "|  (69,[0,2,7,8,12,1...|\n",
            "|  (69,[0,2,7,8,12,1...|\n",
            "|  (69,[0,2,7,8,12,1...|\n",
            "|  (69,[0,2,7,8,12,1...|\n",
            "|  (69,[0,2,7,8,12,1...|\n",
            "|  (69,[0,2,7,8,12,1...|\n",
            "|  (69,[0,2,7,8,12,1...|\n",
            "|  (69,[0,2,7,8,12,1...|\n",
            "+----------------------+\n",
            "only showing top 10 rows\n",
            "\n"
          ]
        }
      ]
    },
    {
      "cell_type": "markdown",
      "source": [
        "### As categories"
      ],
      "metadata": {
        "id": "80Yr54IPbLEI"
      }
    },
    {
      "cell_type": "code",
      "source": [
        "discrete_string_indexer = StringIndexer(\n",
        "    inputCols=[i + '_str' for i in schema['discrete']], \n",
        "    outputCols=[i + '_index' for i in schema['discrete']],\n",
        "    handleInvalid='keep'\n",
        "    )\n",
        "discrete_string_indexer_model = discrete_string_indexer.fit(df_train)\n",
        "df_train = discrete_string_indexer_model.transform(df_train)\n",
        "\n",
        "#df_train.select([i + '_index' for i in schema['discrete']]).show(10)"
      ],
      "metadata": {
        "id": "sbtM1tf_Phb1"
      },
      "execution_count": 15,
      "outputs": []
    },
    {
      "cell_type": "code",
      "source": [
        "discrete_one_hot_encoder = OneHotEncoder(\n",
        "    inputCols=[i + '_index' for i in schema['discrete']], \n",
        "    outputCols=[i + '_encoded' for i in schema['discrete']],    \n",
        "    )\n",
        "discrete_one_hot_encoder_model = discrete_one_hot_encoder.fit(df_train)\n",
        "df_train = discrete_one_hot_encoder_model.transform(df_train)\n",
        "\n",
        "df_train.select([i + '_encoded' for i in schema['discrete']]).show(10)"
      ],
      "metadata": {
        "colab": {
          "base_uri": "https://localhost:8080/"
        },
        "id": "ikZzgDJQMZBw",
        "outputId": "9ffe8110-ae05-4e07-9c86-8ac4b4e9bb89"
      },
      "execution_count": 18,
      "outputs": [
        {
          "output_type": "stream",
          "name": "stdout",
          "text": [
            "+-------------+-------------+-------------+-------------+--------------+-------------+-------------+-------------+--------------+-------------+-------------+--------------+-------------+-------------+-------------+-------------+-------------+-------------+--------------+--------------+-------------+-------------+-------------+-------------+-------------+-------------+-------------+-------------+-------------+-------------+-------------+-------------+-------------+-------------+--------------+--------------+--------------+-------------+-------------+-------------+--------------+-------------+-------------+-------------+--------------+--------------+--------------+--------------+-------------+--------------+--------------+--------------+--------------+--------------+--------------+--------------+--------------+-------------+--------------+--------------+--------------+-------------+--------------+---------------+--------------+--------------+--------------+-------------+--------------+\n",
            "|   V1_encoded|  V10_encoded|  V14_encoded|  V15_encoded|   V16_encoded|  V21_encoded|  V22_encoded|  V25_encoded|   V26_encoded|  V29_encoded|  V33_encoded|   V34_encoded|  V41_encoded|  V46_encoded|  V51_encoded|  V52_encoded|  V57_encoded|  V58_encoded|   V59_encoded|   V60_encoded|  V66_encoded|  V67_encoded|  V73_encoded|  V74_encoded|  V88_encoded|  V90_encoded|  V94_encoded| V111_encoded| V112_encoded| V117_encoded| V118_encoded| V119_encoded| V120_encoded| V122_encoded|  V138_encoded|  V139_encoded|  V140_encoded| V141_encoded| V142_encoded| V148_encoded|  V149_encoded| V153_encoded| V155_encoded| V157_encoded|  V158_encoded|  V161_encoded|  V162_encoded|  V163_encoded| V173_encoded|  V181_encoded|  V184_encoded|  V197_encoded|  V226_encoded|  V236_encoded|  V237_encoded|  V238_encoded|  V239_encoded| V240_encoded|  V252_encoded|  V253_encoded|  V254_encoded| V260_encoded|  V262_encoded|   V269_encoded|  V300_encoded|  V322_encoded|  V324_encoded| V325_encoded| hours_encoded|\n",
            "+-------------+-------------+-------------+-------------+--------------+-------------+-------------+-------------+--------------+-------------+-------------+--------------+-------------+-------------+-------------+-------------+-------------+-------------+--------------+--------------+-------------+-------------+-------------+-------------+-------------+-------------+-------------+-------------+-------------+-------------+-------------+-------------+-------------+-------------+--------------+--------------+--------------+-------------+-------------+-------------+--------------+-------------+-------------+-------------+--------------+--------------+--------------+--------------+-------------+--------------+--------------+--------------+--------------+--------------+--------------+--------------+--------------+-------------+--------------+--------------+--------------+-------------+--------------+---------------+--------------+--------------+--------------+-------------+--------------+\n",
            "|(2,[0],[1.0])|(4,[0],[1.0])|(2,[0],[1.0])|(8,[0],[1.0])|(15,[0],[1.0])|(6,[0],[1.0])|(9,[0],[1.0])|(7,[0],[1.0])|(13,[0],[1.0])|(5,[0],[1.0])|(7,[0],[1.0])|(13,[0],[1.0])|    (2,[],[])|    (6,[],[])|    (6,[],[])|    (8,[],[])|(7,[0],[1.0])|(8,[0],[1.0])|(11,[0],[1.0])|(11,[0],[1.0])|(6,[0],[1.0])|(9,[0],[1.0])|(6,[0],[1.0])|(9,[0],[1.0])|(2,[0],[1.0])|(5,[0],[1.0])|(2,[0],[1.0])|(9,[0],[1.0])|(9,[0],[1.0])|(3,[0],[1.0])|(3,[0],[1.0])|(3,[0],[1.0])|(3,[0],[1.0])|(3,[0],[1.0])|    (23,[],[])|    (34,[],[])|    (34,[],[])|    (6,[],[])|    (7,[],[])|    (9,[],[])|    (10,[],[])|    (7,[],[])|    (9,[],[])|    (9,[],[])|    (11,[],[])|    (54,[],[])|    (85,[],[])|    (62,[],[])|    (8,[],[])|    (16,[],[])|    (12,[],[])|    (10,[],[])|    (25,[],[])|    (28,[],[])|    (17,[],[])|    (18,[],[])|    (18,[],[])|    (5,[],[])|    (18,[],[])|    (58,[],[])|    (33,[],[])|    (8,[],[])|    (21,[],[])|    (102,[],[])|(12,[0],[1.0])|    (33,[],[])|    (34,[],[])|    (8,[],[])|(21,[0],[1.0])|\n",
            "|    (2,[],[])|    (4,[],[])|(2,[0],[1.0])|(8,[0],[1.0])|(15,[0],[1.0])|(6,[0],[1.0])|(9,[0],[1.0])|(7,[0],[1.0])|(13,[0],[1.0])|(5,[0],[1.0])|(7,[0],[1.0])|(13,[0],[1.0])|(2,[0],[1.0])|(6,[0],[1.0])|(6,[0],[1.0])|(8,[0],[1.0])|(7,[0],[1.0])|(8,[0],[1.0])|(11,[0],[1.0])|(11,[0],[1.0])|(6,[0],[1.0])|(9,[0],[1.0])|(6,[0],[1.0])|(9,[0],[1.0])|(2,[0],[1.0])|(5,[0],[1.0])|(2,[0],[1.0])|(9,[0],[1.0])|(9,[0],[1.0])|(3,[0],[1.0])|(3,[0],[1.0])|(3,[0],[1.0])|(3,[0],[1.0])|(3,[0],[1.0])|    (23,[],[])|    (34,[],[])|    (34,[],[])|    (6,[],[])|    (7,[],[])|    (9,[],[])|    (10,[],[])|    (7,[],[])|    (9,[],[])|    (9,[],[])|    (11,[],[])|    (54,[],[])|    (85,[],[])|    (62,[],[])|    (8,[],[])|    (16,[],[])|    (12,[],[])|    (10,[],[])|    (25,[],[])|    (28,[],[])|    (17,[],[])|    (18,[],[])|    (18,[],[])|    (5,[],[])|    (18,[],[])|    (58,[],[])|    (33,[],[])|    (8,[],[])|    (21,[],[])|    (102,[],[])|(12,[0],[1.0])|    (33,[],[])|    (34,[],[])|    (8,[],[])|(21,[0],[1.0])|\n",
            "|(2,[0],[1.0])|(4,[0],[1.0])|(2,[0],[1.0])|(8,[0],[1.0])|(15,[0],[1.0])|(6,[0],[1.0])|(9,[0],[1.0])|(7,[0],[1.0])|(13,[0],[1.0])|(5,[0],[1.0])|(7,[0],[1.0])|(13,[0],[1.0])|(2,[0],[1.0])|(6,[0],[1.0])|(6,[0],[1.0])|(8,[0],[1.0])|(7,[0],[1.0])|(8,[0],[1.0])|(11,[0],[1.0])|(11,[0],[1.0])|(6,[0],[1.0])|(9,[0],[1.0])|(6,[0],[1.0])|(9,[0],[1.0])|(2,[0],[1.0])|(5,[0],[1.0])|(2,[0],[1.0])|(9,[0],[1.0])|(9,[0],[1.0])|(3,[0],[1.0])|(3,[0],[1.0])|(3,[0],[1.0])|(3,[0],[1.0])|(3,[0],[1.0])|    (23,[],[])|    (34,[],[])|    (34,[],[])|    (6,[],[])|    (7,[],[])|    (9,[],[])|    (10,[],[])|    (7,[],[])|    (9,[],[])|    (9,[],[])|    (11,[],[])|    (54,[],[])|    (85,[],[])|    (62,[],[])|    (8,[],[])|    (16,[],[])|    (12,[],[])|    (10,[],[])|    (25,[],[])|    (28,[],[])|    (17,[],[])|    (18,[],[])|    (18,[],[])|    (5,[],[])|    (18,[],[])|    (58,[],[])|    (33,[],[])|    (8,[],[])|    (21,[],[])|    (102,[],[])|(12,[0],[1.0])|    (33,[],[])|    (34,[],[])|    (8,[],[])|(21,[0],[1.0])|\n",
            "|    (2,[],[])|    (4,[],[])|(2,[0],[1.0])|(8,[0],[1.0])|(15,[0],[1.0])|(6,[0],[1.0])|(9,[0],[1.0])|(7,[0],[1.0])|(13,[0],[1.0])|(5,[0],[1.0])|(7,[0],[1.0])|(13,[0],[1.0])|(2,[0],[1.0])|(6,[0],[1.0])|(6,[0],[1.0])|(8,[0],[1.0])|(7,[0],[1.0])|(8,[0],[1.0])|(11,[0],[1.0])|(11,[0],[1.0])|(6,[0],[1.0])|(9,[0],[1.0])|(6,[0],[1.0])|(9,[0],[1.0])|(2,[0],[1.0])|(5,[0],[1.0])|(2,[0],[1.0])|(9,[0],[1.0])|(9,[0],[1.0])|(3,[0],[1.0])|(3,[0],[1.0])|(3,[0],[1.0])|(3,[0],[1.0])|(3,[0],[1.0])|    (23,[],[])|    (34,[],[])|    (34,[],[])|    (6,[],[])|    (7,[],[])|    (9,[],[])|    (10,[],[])|    (7,[],[])|    (9,[],[])|    (9,[],[])|    (11,[],[])|    (54,[],[])|    (85,[],[])|    (62,[],[])|    (8,[],[])|    (16,[],[])|    (12,[],[])|    (10,[],[])|    (25,[],[])|    (28,[],[])|    (17,[],[])|    (18,[],[])|    (18,[],[])|    (5,[],[])|    (18,[],[])|    (58,[],[])|    (33,[],[])|    (8,[],[])|    (21,[],[])|    (102,[],[])|(12,[0],[1.0])|    (33,[],[])|    (34,[],[])|    (8,[],[])|(21,[0],[1.0])|\n",
            "|    (2,[],[])|    (4,[],[])|    (2,[],[])|    (8,[],[])|    (15,[],[])|    (6,[],[])|    (9,[],[])|    (7,[],[])|    (13,[],[])|    (5,[],[])|    (7,[],[])|    (13,[],[])|    (2,[],[])|    (6,[],[])|    (6,[],[])|    (8,[],[])|    (7,[],[])|    (8,[],[])|    (11,[],[])|    (11,[],[])|    (6,[],[])|    (9,[],[])|    (6,[],[])|    (9,[],[])|    (2,[],[])|    (5,[],[])|    (2,[],[])|(9,[0],[1.0])|(9,[0],[1.0])|(3,[0],[1.0])|(3,[0],[1.0])|(3,[0],[1.0])|(3,[0],[1.0])|(3,[0],[1.0])|(23,[0],[1.0])|(34,[1],[1.0])|(34,[1],[1.0])|(6,[0],[1.0])|(7,[0],[1.0])|(9,[1],[1.0])|(10,[1],[1.0])|(7,[1],[1.0])|(9,[1],[1.0])|(9,[1],[1.0])|(11,[1],[1.0])|(54,[0],[1.0])|(85,[0],[1.0])|(62,[0],[1.0])|(8,[0],[1.0])|(16,[0],[1.0])|(12,[0],[1.0])|(10,[0],[1.0])|(25,[0],[1.0])|(28,[0],[1.0])|(17,[0],[1.0])|(18,[0],[1.0])|(18,[0],[1.0])|(5,[0],[1.0])|(18,[0],[1.0])|(58,[0],[1.0])|(33,[0],[1.0])|(8,[0],[1.0])|(21,[0],[1.0])|(102,[0],[1.0])|(12,[0],[1.0])|(33,[0],[1.0])|(34,[0],[1.0])|(8,[0],[1.0])|(21,[0],[1.0])|\n",
            "|(2,[0],[1.0])|(4,[0],[1.0])|(2,[0],[1.0])|(8,[0],[1.0])|(15,[0],[1.0])|(6,[0],[1.0])|(9,[0],[1.0])|(7,[0],[1.0])|(13,[0],[1.0])|(5,[0],[1.0])|(7,[0],[1.0])|(13,[0],[1.0])|(2,[0],[1.0])|(6,[0],[1.0])|(6,[0],[1.0])|(8,[0],[1.0])|(7,[0],[1.0])|(8,[0],[1.0])|(11,[0],[1.0])|(11,[0],[1.0])|(6,[0],[1.0])|(9,[0],[1.0])|(6,[0],[1.0])|(9,[0],[1.0])|(2,[0],[1.0])|(5,[0],[1.0])|(2,[0],[1.0])|(9,[0],[1.0])|(9,[0],[1.0])|(3,[0],[1.0])|(3,[0],[1.0])|(3,[0],[1.0])|(3,[0],[1.0])|(3,[0],[1.0])|    (23,[],[])|    (34,[],[])|    (34,[],[])|    (6,[],[])|    (7,[],[])|    (9,[],[])|    (10,[],[])|    (7,[],[])|    (9,[],[])|    (9,[],[])|    (11,[],[])|    (54,[],[])|    (85,[],[])|    (62,[],[])|    (8,[],[])|    (16,[],[])|    (12,[],[])|    (10,[],[])|    (25,[],[])|    (28,[],[])|    (17,[],[])|    (18,[],[])|    (18,[],[])|    (5,[],[])|    (18,[],[])|    (58,[],[])|    (33,[],[])|    (8,[],[])|    (21,[],[])|    (102,[],[])|(12,[0],[1.0])|    (33,[],[])|    (34,[],[])|    (8,[],[])|(21,[0],[1.0])|\n",
            "|(2,[0],[1.0])|(4,[0],[1.0])|(2,[0],[1.0])|(8,[0],[1.0])|(15,[0],[1.0])|(6,[0],[1.0])|(9,[0],[1.0])|(7,[0],[1.0])|(13,[0],[1.0])|(5,[0],[1.0])|(7,[0],[1.0])|(13,[0],[1.0])|(2,[0],[1.0])|(6,[0],[1.0])|(6,[0],[1.0])|(8,[0],[1.0])|(7,[0],[1.0])|(8,[0],[1.0])|(11,[0],[1.0])|(11,[0],[1.0])|(6,[0],[1.0])|(9,[0],[1.0])|(6,[0],[1.0])|(9,[0],[1.0])|(2,[0],[1.0])|(5,[0],[1.0])|(2,[0],[1.0])|(9,[0],[1.0])|(9,[0],[1.0])|(3,[0],[1.0])|(3,[0],[1.0])|(3,[0],[1.0])|(3,[0],[1.0])|(3,[0],[1.0])|    (23,[],[])|    (34,[],[])|    (34,[],[])|    (6,[],[])|    (7,[],[])|    (9,[],[])|    (10,[],[])|    (7,[],[])|    (9,[],[])|    (9,[],[])|    (11,[],[])|    (54,[],[])|    (85,[],[])|    (62,[],[])|    (8,[],[])|    (16,[],[])|    (12,[],[])|    (10,[],[])|    (25,[],[])|    (28,[],[])|    (17,[],[])|    (18,[],[])|    (18,[],[])|    (5,[],[])|    (18,[],[])|    (58,[],[])|    (33,[],[])|    (8,[],[])|    (21,[],[])|    (102,[],[])|(12,[0],[1.0])|    (33,[],[])|    (34,[],[])|    (8,[],[])|(21,[0],[1.0])|\n",
            "|    (2,[],[])|    (4,[],[])|(2,[0],[1.0])|(8,[0],[1.0])|(15,[0],[1.0])|(6,[0],[1.0])|(9,[0],[1.0])|(7,[0],[1.0])|(13,[0],[1.0])|(5,[0],[1.0])|(7,[0],[1.0])|(13,[0],[1.0])|(2,[0],[1.0])|(6,[0],[1.0])|(6,[0],[1.0])|(8,[0],[1.0])|(7,[0],[1.0])|(8,[0],[1.0])|(11,[0],[1.0])|(11,[0],[1.0])|(6,[0],[1.0])|(9,[0],[1.0])|(6,[0],[1.0])|(9,[0],[1.0])|(2,[0],[1.0])|(5,[0],[1.0])|(2,[0],[1.0])|(9,[0],[1.0])|(9,[0],[1.0])|(3,[0],[1.0])|(3,[0],[1.0])|(3,[0],[1.0])|(3,[0],[1.0])|(3,[0],[1.0])|    (23,[],[])|    (34,[],[])|    (34,[],[])|    (6,[],[])|    (7,[],[])|    (9,[],[])|    (10,[],[])|    (7,[],[])|    (9,[],[])|    (9,[],[])|    (11,[],[])|    (54,[],[])|    (85,[],[])|    (62,[],[])|    (8,[],[])|    (16,[],[])|    (12,[],[])|    (10,[],[])|    (25,[],[])|    (28,[],[])|    (17,[],[])|    (18,[],[])|    (18,[],[])|    (5,[],[])|    (18,[],[])|    (58,[],[])|    (33,[],[])|    (8,[],[])|    (21,[],[])|    (102,[],[])|(12,[0],[1.0])|    (33,[],[])|    (34,[],[])|    (8,[],[])|(21,[0],[1.0])|\n",
            "|    (2,[],[])|    (4,[],[])|    (2,[],[])|    (8,[],[])|    (15,[],[])|    (6,[],[])|    (9,[],[])|    (7,[],[])|    (13,[],[])|    (5,[],[])|    (7,[],[])|    (13,[],[])|    (2,[],[])|    (6,[],[])|    (6,[],[])|    (8,[],[])|    (7,[],[])|    (8,[],[])|    (11,[],[])|    (11,[],[])|    (6,[],[])|    (9,[],[])|    (6,[],[])|    (9,[],[])|    (2,[],[])|    (5,[],[])|    (2,[],[])|(9,[0],[1.0])|(9,[0],[1.0])|(3,[0],[1.0])|(3,[0],[1.0])|(3,[0],[1.0])|(3,[0],[1.0])|(3,[0],[1.0])|(23,[0],[1.0])|(34,[1],[1.0])|(34,[1],[1.0])|(6,[0],[1.0])|(7,[0],[1.0])|(9,[1],[1.0])|(10,[1],[1.0])|(7,[1],[1.0])|(9,[1],[1.0])|(9,[1],[1.0])|(11,[1],[1.0])|(54,[0],[1.0])|(85,[0],[1.0])|(62,[0],[1.0])|(8,[0],[1.0])|(16,[0],[1.0])|(12,[0],[1.0])|(10,[0],[1.0])|(25,[0],[1.0])|(28,[0],[1.0])|(17,[0],[1.0])|(18,[0],[1.0])|(18,[0],[1.0])|(5,[0],[1.0])|(18,[0],[1.0])|(58,[0],[1.0])|(33,[0],[1.0])|(8,[0],[1.0])|(21,[0],[1.0])|(102,[0],[1.0])|(12,[0],[1.0])|(33,[0],[1.0])|(34,[0],[1.0])|(8,[0],[1.0])|(21,[0],[1.0])|\n",
            "|(2,[0],[1.0])|(4,[0],[1.0])|(2,[0],[1.0])|(8,[0],[1.0])|(15,[0],[1.0])|(6,[0],[1.0])|(9,[0],[1.0])|(7,[0],[1.0])|(13,[0],[1.0])|(5,[0],[1.0])|(7,[0],[1.0])|(13,[0],[1.0])|(2,[0],[1.0])|(6,[0],[1.0])|(6,[0],[1.0])|(8,[0],[1.0])|(7,[0],[1.0])|(8,[0],[1.0])|(11,[0],[1.0])|(11,[0],[1.0])|(6,[0],[1.0])|(9,[0],[1.0])|(6,[0],[1.0])|(9,[0],[1.0])|(2,[0],[1.0])|(5,[0],[1.0])|(2,[0],[1.0])|(9,[0],[1.0])|(9,[0],[1.0])|(3,[0],[1.0])|(3,[0],[1.0])|(3,[0],[1.0])|(3,[0],[1.0])|(3,[0],[1.0])|    (23,[],[])|    (34,[],[])|    (34,[],[])|    (6,[],[])|    (7,[],[])|    (9,[],[])|    (10,[],[])|    (7,[],[])|    (9,[],[])|    (9,[],[])|    (11,[],[])|    (54,[],[])|    (85,[],[])|    (62,[],[])|    (8,[],[])|    (16,[],[])|    (12,[],[])|    (10,[],[])|    (25,[],[])|    (28,[],[])|    (17,[],[])|    (18,[],[])|    (18,[],[])|    (5,[],[])|    (18,[],[])|    (58,[],[])|    (33,[],[])|    (8,[],[])|    (21,[],[])|    (102,[],[])|(12,[0],[1.0])|    (33,[],[])|    (34,[],[])|    (8,[],[])|(21,[0],[1.0])|\n",
            "+-------------+-------------+-------------+-------------+--------------+-------------+-------------+-------------+--------------+-------------+-------------+--------------+-------------+-------------+-------------+-------------+-------------+-------------+--------------+--------------+-------------+-------------+-------------+-------------+-------------+-------------+-------------+-------------+-------------+-------------+-------------+-------------+-------------+-------------+--------------+--------------+--------------+-------------+-------------+-------------+--------------+-------------+-------------+-------------+--------------+--------------+--------------+--------------+-------------+--------------+--------------+--------------+--------------+--------------+--------------+--------------+--------------+-------------+--------------+--------------+--------------+-------------+--------------+---------------+--------------+--------------+--------------+-------------+--------------+\n",
            "only showing top 10 rows\n",
            "\n"
          ]
        }
      ]
    },
    {
      "cell_type": "markdown",
      "source": [
        "## Continuous variables"
      ],
      "metadata": {
        "id": "tr3YavITQ0Zd"
      }
    },
    {
      "cell_type": "code",
      "source": [
        "from pyspark.ml.feature import Imputer\n",
        "\n",
        "continuous_imputer = Imputer(\n",
        "    inputCols=schema['continuous'], \n",
        "    outputCols=[i + '_imputed' for i in schema['continuous']],\n",
        "    strategy='median'\n",
        "    )\n",
        "continuous_imputer_model = continuous_imputer.fit(df_train)\n",
        "df_train = continuous_imputer_model.transform(df_train)\n",
        "#df_train.select([i + '_imputed' for i in schema['continuous']]).show(10)"
      ],
      "metadata": {
        "id": "0hMov1b7UG2Z"
      },
      "execution_count": 23,
      "outputs": []
    },
    {
      "cell_type": "code",
      "source": [
        "from pyspark.ml.feature import VectorAssembler\n",
        "\n",
        "continuous_features_assembler = VectorAssembler(\n",
        "    inputCols=[i + '_imputed' for i in schema['continuous']], \n",
        "    outputCol='continuous_assembled')\n",
        "\n",
        "df_train = continuous_features_assembler.transform(df_train)"
      ],
      "metadata": {
        "id": "K5D7eBvsRl9v"
      },
      "execution_count": 25,
      "outputs": []
    },
    {
      "cell_type": "code",
      "source": [
        "from pyspark.ml.feature import RobustScaler\n",
        "\n",
        "continuous_robust_scaler = RobustScaler(\n",
        "    inputCol='continuous_assembled', outputCol='continuous_vector_scaled')\n",
        "\n",
        "continuous_robust_scaler_model = continuous_robust_scaler.fit(df_train)\n",
        "\n",
        "df_train = continuous_robust_scaler_model.transform(df_train)\n",
        "\n",
        "df_train.select('continuous_vector_scaled').show(10)"
      ],
      "metadata": {
        "colab": {
          "base_uri": "https://localhost:8080/"
        },
        "id": "AT8a3ErORKQ5",
        "outputId": "75edc96b-5351-4035-a136-d38a87df977d"
      },
      "execution_count": 27,
      "outputs": [
        {
          "output_type": "stream",
          "name": "stdout",
          "text": [
            "+------------------------+\n",
            "|continuous_vector_scaled|\n",
            "+------------------------+\n",
            "|    (63,[0,1,2,3,4,6,...|\n",
            "|    (63,[0,1,2,3,4,6]...|\n",
            "|    (63,[0,1,2,3,4,6,...|\n",
            "|    (63,[0,1,2,3,4,6,...|\n",
            "|    (63,[0,1,2,3,4,6,...|\n",
            "|    (63,[0,1,2,3,4,6,...|\n",
            "|    (63,[0,1,2,4,6,62...|\n",
            "|    (63,[0,1,2,3,4,6,...|\n",
            "|    (63,[0,1,2,3,4,6,...|\n",
            "|    (63,[0,1,2,3,4,6,...|\n",
            "+------------------------+\n",
            "only showing top 10 rows\n",
            "\n"
          ]
        }
      ]
    },
    {
      "cell_type": "markdown",
      "source": [
        "## Feature *Assembling*"
      ],
      "metadata": {
        "id": "AkfG2Gh-Vjq1"
      }
    },
    {
      "cell_type": "code",
      "source": [
        "cat_vars = [var + '_encoded' for var in schema['categorical']]\n",
        "disc_vars = ['discrete_vector_scaled'] + [var + '_encoded' for var in schema['discrete']]\n",
        "cont_vars = ['continuous_vector_scaled']  \n",
        "vars = cat_vars + disc_vars + cont_vars  \n",
        "\n",
        "features_assembler = VectorAssembler(inputCols=vars, outputCol='features')"
      ],
      "metadata": {
        "id": "m9NAJjF8VhYx"
      },
      "execution_count": 29,
      "outputs": []
    }
  ],
  "metadata": {
    "colab": {
      "collapsed_sections": [],
      "name": "Data Preprocessing.ipynb",
      "toc_visible": true,
      "provenance": [],
      "authorship_tag": "ABX9TyMm6gJ/p5Ctha9ws4vZI1e1",
      "include_colab_link": true
    },
    "kernelspec": {
      "display_name": "Python 3",
      "name": "python3"
    },
    "language_info": {
      "name": "python"
    }
  },
  "nbformat": 4,
  "nbformat_minor": 0
}